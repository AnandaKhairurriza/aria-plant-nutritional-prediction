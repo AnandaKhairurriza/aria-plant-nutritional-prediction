{
 "cells": [
  {
   "attachments": {},
   "cell_type": "markdown",
   "metadata": {},
   "source": [
    "# i. Perkenalan"
   ]
  },
  {
   "attachments": {},
   "cell_type": "markdown",
   "metadata": {},
   "source": [
    "<h2><b>Model untuk memprediksi nutrisi pada tanaman</b></h2>\n",
    "\n",
    "<h4><b>Ananda Khairurriza</b></h4>\n",
    "<h4><b>Batch:</b> FTDS-017 RMT</h4>\n",
    "<h4><b>Dataset yang digunakan: </b></h4> \n",
    "Dataset yang digunakan adalah data informasi nutrisi tanaman dan variabel yang mempengaruhi nutrisi tanaman dari perusahaan Aria.\n",
    "<h4><b>Objective: </b></h4>\n",
    "\n",
    "Project ini bertujuan untuk membuat model yang dapat memprediksi nilai nutrisi pada tanaman dan faktor apa saja yang mempengaruhi nutrisi pada tanaman. \n",
    "\n",
    "<h4><b>Link Website Model Deployment:</b></h4> \n",
    "\n",
    "https://huggingface.co/spaces/AnandaKhairurriza/Aria_Plant_Nutrition\n"
   ]
  },
  {
   "attachments": {},
   "cell_type": "markdown",
   "metadata": {},
   "source": [
    "# ii. Import Libraries"
   ]
  },
  {
   "attachments": {},
   "cell_type": "markdown",
   "metadata": {},
   "source": [
    "Berikut merupakan library yang digunakan dalam mengalanisis serta perancangan model."
   ]
  },
  {
   "cell_type": "code",
   "execution_count": 196,
   "metadata": {},
   "outputs": [],
   "source": [
    "# Libraries yang dibutuhkan untuk project\n",
    "\n",
    "import numpy as np # Untuk mengolah array\n",
    "import pandas as pd # Untuk mengolah data tabular\n",
    "import math  # Untuk perhitungan matematis\n",
    "\n",
    "# Untuk visualisasi chart\n",
    "import matplotlib.pyplot as plt\n",
    "import seaborn as sns\n",
    "\n",
    "from sklearn.model_selection import train_test_split # Untuk memisahkan train set dan test set\n",
    "from feature_engine.outliers import Winsorizer # Untuk handling outlier dengan teknik censoring\n",
    "from sklearn.model_selection import GridSearchCV # Untuk pencarian hyperparameter tuning\n",
    "\n",
    "from sklearn.feature_selection import f_regression, f_classif # Untuk uji korelasi\n",
    "from sklearn.preprocessing import StandardScaler, MinMaxScaler # Untuk scaling\n",
    "\n",
    "# Machine learning\n",
    "from sklearn.linear_model import LinearRegression # Untuk modeling menggunakan algoritma Linear Regression\n",
    "from sklearn.neighbors import KNeighborsRegressor # Untuk modeling menggunakan algoritma KNN\n",
    "from sklearn.tree import DecisionTreeRegressor # Untuk modeling menggunakan algoritma Decision Tree\n",
    "from sklearn.ensemble import RandomForestRegressor # Untuk modeling menggunakan algoritma Random Forest\n",
    "from sklearn.ensemble import AdaBoostRegressor # Untuk modeling menggunakan algoritma Ada Boost\n",
    "from sklearn.svm import SVR # Untuk modeling menggunakan algoritma SVM\n",
    "\n",
    "from sklearn.metrics import mean_squared_error # Metriks untuk evaluasi model\n",
    "\n",
    "import pickle # Untuk menyimpan library binary\n",
    "import json # Untuk menyimpan list fitur"
   ]
  },
  {
   "attachments": {},
   "cell_type": "markdown",
   "metadata": {},
   "source": [
    "Adapun versi python dan library yang digunakan dalam mengerjakan project ini adalah:\n",
    "<ul>\n",
    "    <li>Python versi <b>3.11.0</b></li>\n",
    "    <li>Numpy versi <b>1.23.5</b></li>\n",
    "    <li>Pandas versi <b>1.5.2</b></li>\n",
    "    <li>SciPy versi <b>1.9.3</b></li>\n",
    "    <li>Feature-engine versi <b>1.5.2</b></li>\n",
    "    <li>Scikit-Learn versi <b>1.2.0</b></li>\n",
    "    <li>Seaborn versi <b>0.12.1</b></li>\n",
    "</ul>"
   ]
  },
  {
   "attachments": {},
   "cell_type": "markdown",
   "metadata": {},
   "source": [
    "# iii. Loading data"
   ]
  },
  {
   "attachments": {},
   "cell_type": "markdown",
   "metadata": {},
   "source": [
    "Pada tahap ini penyiapan data yang dibutuhkan sebelum dilakukan analisis lebih lanjut. Proses ini meliputi loading dataset pengecekan informasi dataset, pengecekan data duplikat, perubahan nama kolom jika diperlukan, dan langkah lain yang dianggap diperlukan."
   ]
  },
  {
   "attachments": {},
   "cell_type": "markdown",
   "metadata": {},
   "source": [
    "### Load data"
   ]
  },
  {
   "cell_type": "code",
   "execution_count": 197,
   "metadata": {},
   "outputs": [
    {
     "data": {
      "text/html": [
       "<div>\n",
       "<style scoped>\n",
       "    .dataframe tbody tr th:only-of-type {\n",
       "        vertical-align: middle;\n",
       "    }\n",
       "\n",
       "    .dataframe tbody tr th {\n",
       "        vertical-align: top;\n",
       "    }\n",
       "\n",
       "    .dataframe thead th {\n",
       "        text-align: right;\n",
       "    }\n",
       "</style>\n",
       "<table border=\"1\" class=\"dataframe\">\n",
       "  <thead>\n",
       "    <tr style=\"text-align: right;\">\n",
       "      <th></th>\n",
       "      <th>target</th>\n",
       "      <th>v1</th>\n",
       "      <th>v2</th>\n",
       "      <th>v3</th>\n",
       "      <th>v4</th>\n",
       "      <th>v5</th>\n",
       "      <th>v6</th>\n",
       "      <th>v7</th>\n",
       "      <th>v8</th>\n",
       "      <th>sample_type</th>\n",
       "    </tr>\n",
       "  </thead>\n",
       "  <tbody>\n",
       "    <tr>\n",
       "      <th>0</th>\n",
       "      <td>4.63</td>\n",
       "      <td>260.600000</td>\n",
       "      <td>199.000000</td>\n",
       "      <td>391.333333</td>\n",
       "      <td>371.733333</td>\n",
       "      <td>466.800000</td>\n",
       "      <td>273.133333</td>\n",
       "      <td>742.066667</td>\n",
       "      <td>4047.733333</td>\n",
       "      <td>lab 1</td>\n",
       "    </tr>\n",
       "    <tr>\n",
       "      <th>1</th>\n",
       "      <td>5.00</td>\n",
       "      <td>263.200000</td>\n",
       "      <td>194.600000</td>\n",
       "      <td>393.666667</td>\n",
       "      <td>348.533333</td>\n",
       "      <td>401.800000</td>\n",
       "      <td>220.066667</td>\n",
       "      <td>712.000000</td>\n",
       "      <td>4673.466667</td>\n",
       "      <td>lab 1</td>\n",
       "    </tr>\n",
       "    <tr>\n",
       "      <th>2</th>\n",
       "      <td>4.91</td>\n",
       "      <td>247.266667</td>\n",
       "      <td>205.800000</td>\n",
       "      <td>375.466667</td>\n",
       "      <td>354.866667</td>\n",
       "      <td>419.000000</td>\n",
       "      <td>222.133333</td>\n",
       "      <td>677.200000</td>\n",
       "      <td>4386.800000</td>\n",
       "      <td>lab 1</td>\n",
       "    </tr>\n",
       "    <tr>\n",
       "      <th>3</th>\n",
       "      <td>4.77</td>\n",
       "      <td>257.944444</td>\n",
       "      <td>191.833333</td>\n",
       "      <td>368.722222</td>\n",
       "      <td>334.666667</td>\n",
       "      <td>417.222222</td>\n",
       "      <td>195.944444</td>\n",
       "      <td>678.555556</td>\n",
       "      <td>4588.777778</td>\n",
       "      <td>lab 1</td>\n",
       "    </tr>\n",
       "    <tr>\n",
       "      <th>4</th>\n",
       "      <td>4.89</td>\n",
       "      <td>258.200000</td>\n",
       "      <td>195.733333</td>\n",
       "      <td>356.666667</td>\n",
       "      <td>333.333333</td>\n",
       "      <td>394.600000</td>\n",
       "      <td>196.000000</td>\n",
       "      <td>677.133333</td>\n",
       "      <td>4867.066667</td>\n",
       "      <td>lab 1</td>\n",
       "    </tr>\n",
       "    <tr>\n",
       "      <th>...</th>\n",
       "      <td>...</td>\n",
       "      <td>...</td>\n",
       "      <td>...</td>\n",
       "      <td>...</td>\n",
       "      <td>...</td>\n",
       "      <td>...</td>\n",
       "      <td>...</td>\n",
       "      <td>...</td>\n",
       "      <td>...</td>\n",
       "      <td>...</td>\n",
       "    </tr>\n",
       "    <tr>\n",
       "      <th>155</th>\n",
       "      <td>4.83</td>\n",
       "      <td>573.250000</td>\n",
       "      <td>361.250000</td>\n",
       "      <td>643.125000</td>\n",
       "      <td>489.812500</td>\n",
       "      <td>666.875000</td>\n",
       "      <td>355.250000</td>\n",
       "      <td>712.312500</td>\n",
       "      <td>3943.687500</td>\n",
       "      <td>lab 2</td>\n",
       "    </tr>\n",
       "    <tr>\n",
       "      <th>156</th>\n",
       "      <td>4.47</td>\n",
       "      <td>678.375000</td>\n",
       "      <td>398.125000</td>\n",
       "      <td>678.250000</td>\n",
       "      <td>541.125000</td>\n",
       "      <td>704.000000</td>\n",
       "      <td>393.500000</td>\n",
       "      <td>788.812500</td>\n",
       "      <td>3928.187500</td>\n",
       "      <td>lab 2</td>\n",
       "    </tr>\n",
       "    <tr>\n",
       "      <th>157</th>\n",
       "      <td>4.63</td>\n",
       "      <td>634.000000</td>\n",
       "      <td>382.866667</td>\n",
       "      <td>657.466667</td>\n",
       "      <td>505.066667</td>\n",
       "      <td>719.200000</td>\n",
       "      <td>366.600000</td>\n",
       "      <td>792.133333</td>\n",
       "      <td>3861.200000</td>\n",
       "      <td>lab 2</td>\n",
       "    </tr>\n",
       "    <tr>\n",
       "      <th>158</th>\n",
       "      <td>4.35</td>\n",
       "      <td>615.312500</td>\n",
       "      <td>366.750000</td>\n",
       "      <td>642.937500</td>\n",
       "      <td>483.687500</td>\n",
       "      <td>675.625000</td>\n",
       "      <td>359.062500</td>\n",
       "      <td>730.125000</td>\n",
       "      <td>3859.062500</td>\n",
       "      <td>lab 2</td>\n",
       "    </tr>\n",
       "    <tr>\n",
       "      <th>159</th>\n",
       "      <td>4.43</td>\n",
       "      <td>575.200000</td>\n",
       "      <td>350.266667</td>\n",
       "      <td>648.333333</td>\n",
       "      <td>495.400000</td>\n",
       "      <td>679.800000</td>\n",
       "      <td>346.266667</td>\n",
       "      <td>718.733333</td>\n",
       "      <td>3903.333333</td>\n",
       "      <td>lab 2</td>\n",
       "    </tr>\n",
       "  </tbody>\n",
       "</table>\n",
       "<p>160 rows × 10 columns</p>\n",
       "</div>"
      ],
      "text/plain": [
       "     target          v1          v2          v3          v4          v5  \\\n",
       "0      4.63  260.600000  199.000000  391.333333  371.733333  466.800000   \n",
       "1      5.00  263.200000  194.600000  393.666667  348.533333  401.800000   \n",
       "2      4.91  247.266667  205.800000  375.466667  354.866667  419.000000   \n",
       "3      4.77  257.944444  191.833333  368.722222  334.666667  417.222222   \n",
       "4      4.89  258.200000  195.733333  356.666667  333.333333  394.600000   \n",
       "..      ...         ...         ...         ...         ...         ...   \n",
       "155    4.83  573.250000  361.250000  643.125000  489.812500  666.875000   \n",
       "156    4.47  678.375000  398.125000  678.250000  541.125000  704.000000   \n",
       "157    4.63  634.000000  382.866667  657.466667  505.066667  719.200000   \n",
       "158    4.35  615.312500  366.750000  642.937500  483.687500  675.625000   \n",
       "159    4.43  575.200000  350.266667  648.333333  495.400000  679.800000   \n",
       "\n",
       "             v6          v7           v8 sample_type  \n",
       "0    273.133333  742.066667  4047.733333       lab 1  \n",
       "1    220.066667  712.000000  4673.466667       lab 1  \n",
       "2    222.133333  677.200000  4386.800000       lab 1  \n",
       "3    195.944444  678.555556  4588.777778       lab 1  \n",
       "4    196.000000  677.133333  4867.066667       lab 1  \n",
       "..          ...         ...          ...         ...  \n",
       "155  355.250000  712.312500  3943.687500       lab 2  \n",
       "156  393.500000  788.812500  3928.187500       lab 2  \n",
       "157  366.600000  792.133333  3861.200000       lab 2  \n",
       "158  359.062500  730.125000  3859.062500       lab 2  \n",
       "159  346.266667  718.733333  3903.333333       lab 2  \n",
       "\n",
       "[160 rows x 10 columns]"
      ]
     },
     "execution_count": 197,
     "metadata": {},
     "output_type": "execute_result"
    }
   ],
   "source": [
    "# Load dataset\n",
    "df = pd.read_excel(\"dataset/aria_data.xlsx\")\n",
    "df"
   ]
  },
  {
   "attachments": {},
   "cell_type": "markdown",
   "metadata": {},
   "source": [
    "### Informasi data"
   ]
  },
  {
   "cell_type": "code",
   "execution_count": 198,
   "metadata": {},
   "outputs": [
    {
     "name": "stdout",
     "output_type": "stream",
     "text": [
      "<class 'pandas.core.frame.DataFrame'>\n",
      "RangeIndex: 160 entries, 0 to 159\n",
      "Data columns (total 10 columns):\n",
      " #   Column       Non-Null Count  Dtype  \n",
      "---  ------       --------------  -----  \n",
      " 0   target       160 non-null    float64\n",
      " 1   v1           160 non-null    float64\n",
      " 2   v2           160 non-null    float64\n",
      " 3   v3           160 non-null    float64\n",
      " 4   v4           160 non-null    float64\n",
      " 5   v5           160 non-null    float64\n",
      " 6   v6           160 non-null    float64\n",
      " 7   v7           160 non-null    float64\n",
      " 8   v8           160 non-null    float64\n",
      " 9   sample_type  160 non-null    object \n",
      "dtypes: float64(9), object(1)\n",
      "memory usage: 12.6+ KB\n"
     ]
    }
   ],
   "source": [
    "# Informasi dataset\n",
    "df.info()"
   ]
  },
  {
   "attachments": {},
   "cell_type": "markdown",
   "metadata": {},
   "source": [
    "Dari hasil informasi dataset kolom target dan v1 sampai v8 bertipe numerik (float), kemudian kolom sample_type bertipe string (object). Jumlah data pada dataset adalah 160 data dan tidak ada data null pada dataset ini (160 non-null dari 160 data).\n",
    "\n",
    "Menurut informasi mengenai dataset, berikut adalah informasi dari setiap kolom:\n",
    "<ul>\n",
    "    <li><b>target:</b> Nilai prediksi nutrisi pada tanaman.</li>\n",
    "    <li><b>v1 - v8:</b> Variabel yang mempengaruhi nilai nutrisi pada tanaman.</li>\n",
    "    <li><b>sample_type:</b> Jenis laboratorium dimana sampel diperoleh.</li>\n",
    "</ul>"
   ]
  },
  {
   "attachments": {},
   "cell_type": "markdown",
   "metadata": {},
   "source": [
    "### Cek data duplikat"
   ]
  },
  {
   "attachments": {},
   "cell_type": "markdown",
   "metadata": {},
   "source": [
    "Data duplikat merupakan data yang secara nilai/value sama dengan data lain. Jika terdapat data duplikat maka perlu dilakukan treatment terhadap data tersebut."
   ]
  },
  {
   "cell_type": "code",
   "execution_count": 199,
   "metadata": {},
   "outputs": [
    {
     "data": {
      "text/plain": [
       "False    160\n",
       "dtype: int64"
      ]
     },
     "execution_count": 199,
     "metadata": {},
     "output_type": "execute_result"
    }
   ],
   "source": [
    "# Cek data duplikat\n",
    "check = df.duplicated()\n",
    "check.value_counts()"
   ]
  },
  {
   "attachments": {},
   "cell_type": "markdown",
   "metadata": {},
   "source": [
    "Dari hasil pemeriksaan tidak ada data duplikat pada dataset ini."
   ]
  },
  {
   "attachments": {},
   "cell_type": "markdown",
   "metadata": {},
   "source": [
    "### Cek kardinalitas"
   ]
  },
  {
   "attachments": {},
   "cell_type": "markdown",
   "metadata": {},
   "source": [
    "Dilakukan pengecekan kardinalitas terhadap kolom nominal. Kardinalitas merupakan banyaknya jenis kelompok/macam pada dataset, jika terlalu besar maka perlu disederhanakan untuk mengoptimalkan pada saat training model."
   ]
  },
  {
   "cell_type": "code",
   "execution_count": 200,
   "metadata": {},
   "outputs": [
    {
     "data": {
      "text/plain": [
       "2"
      ]
     },
     "execution_count": 200,
     "metadata": {},
     "output_type": "execute_result"
    }
   ],
   "source": [
    "# Cek cardinality pada kolom string\n",
    "df[\"sample_type\"].nunique()"
   ]
  },
  {
   "attachments": {},
   "cell_type": "markdown",
   "metadata": {},
   "source": [
    "Dari hasil pengecekan kardinalitas kolom sample_type hanya memiliki dua jenis group, sehingga tidak perlu disederhanakan."
   ]
  },
  {
   "attachments": {},
   "cell_type": "markdown",
   "metadata": {},
   "source": [
    "# iv. EDA (Exploratory Data Analysis)"
   ]
  },
  {
   "attachments": {},
   "cell_type": "markdown",
   "metadata": {},
   "source": [
    "EDA (Exploratory Data Analysis) merupakan proses pengenalan dan eksplorasi pada dataset untuk mendapatkan informasi mengenai dataset."
   ]
  },
  {
   "attachments": {},
   "cell_type": "markdown",
   "metadata": {},
   "source": [
    "### Perbandingan jumlah data berdasarkan lab sample"
   ]
  },
  {
   "cell_type": "code",
   "execution_count": 201,
   "metadata": {},
   "outputs": [
    {
     "data": {
      "image/png": "[encoded data removed]",
      "text/plain": [
       "<Figure size 640x480 with 1 Axes>"
      ]
     },
     "metadata": {},
     "output_type": "display_data"
    }
   ],
   "source": [
    "def fmt(x):\n",
    "    return \"{:.1f}%\\n({:.0f})\".format(x, len(df)*x/100)\n",
    "\n",
    "de_cmp = df[\"sample_type\"].value_counts()\n",
    "plt.title(\"Perbandingan sampel\")\n",
    "plt.pie(de_cmp, labels=de_cmp.index, shadow = True, autopct=fmt)\n",
    "plt.show()"
   ]
  },
  {
   "attachments": {},
   "cell_type": "markdown",
   "metadata": {},
   "source": [
    "Dari hasil perbandingan, sebagian besar data diambil dari lab 1 (100 data) dibandingkan lab 2 (60 data)."
   ]
  },
  {
   "attachments": {},
   "cell_type": "markdown",
   "metadata": {},
   "source": [
    "### Rentang nutrisi tanaman pada dataset"
   ]
  },
  {
   "cell_type": "code",
   "execution_count": 202,
   "metadata": {},
   "outputs": [
    {
     "data": {
      "image/png": "[encoded data removed]",
      "text/plain": [
       "<Figure size 640x480 with 1 Axes>"
      ]
     },
     "metadata": {},
     "output_type": "display_data"
    }
   ],
   "source": [
    "plt.title(\"Rentang nutrisi tanaman\")\n",
    "sns.histplot(data=df[\"target\"], kde=True, bins=15)\n",
    "plt.show()"
   ]
  },
  {
   "attachments": {},
   "cell_type": "markdown",
   "metadata": {},
   "source": [
    "Rentang nilai nutrisi pada dataset adalah dari 4.1 hingga 5.3, kemudian sebagian besar nutrisi tanaman berada pada nilai 4.6 sampai 4.7. "
   ]
  },
  {
   "attachments": {},
   "cell_type": "markdown",
   "metadata": {},
   "source": [
    "### Rentang variabel yang mempengaruhi nutrisi tanaman"
   ]
  },
  {
   "cell_type": "code",
   "execution_count": 203,
   "metadata": {},
   "outputs": [
    {
     "data": {
      "image/png": "[encoded data removed]",
      "text/plain": [
       "<Figure size 1600x800 with 8 Axes>"
      ]
     },
     "metadata": {},
     "output_type": "display_data"
    }
   ],
   "source": [
    "plt.figure(figsize=(16,8))\n",
    "var_list = [\"v1\", \"v2\", \"v3\", \"v4\", \"v5\", \"v6\", \"v7\", \"v8\"]\n",
    "\n",
    "for a, b in zip (var_list, [x for x in range (1,9)]):\n",
    "    plt.subplot(2, 4, b)\n",
    "    sns.boxenplot(data=df[a])\n",
    "    plt.title(a)\n",
    "plt.show()"
   ]
  },
  {
   "attachments": {},
   "cell_type": "markdown",
   "metadata": {},
   "source": [
    "Rentang dan rata-rata nilai variabel 1 hingga 7 berada di angka ratusan, sedangkan untuk variabel 8 berada di rentang ribuan. Menurut sebuah artikel (<a href=\"https://greenplanetnutrients.com/blog/tips-advice/understanding-plant-nutrition/\">artikel 1</a> dan <a href=\"https://extension.umn.edu/testing-and-analysis/understanding-plant-analysis-crops#:~:text=To%20calculate%20nutrient%20uptake%2C%20multiply,individual%20plant%20can%20be%20determined.\">artikel 2</a>), nutrisi pada tanaman dibagi menjadi 3 jenis yaitu Primary Macronutrients, Secondary Macronutrients, dan Micronutrients. Primary Macronutrients merupakan nutrisi yang jumlahnya paling besar jumlahnya pada suatu tanaman, contohnya Nitrogen, Phosporus, dan Potasium. Sedangkan Secondary Macronutrients dan Micronutrients merupakan nutrisi yang jumlahnya tidak lebih besar dari Primary Macronutrients, contohnya Kalsium, Sulfur, Boron, dan Seng.\n",
    "\n",
    "Secara asumsi, variabel 8 merupakan ukuran Primary Macronutrients karena jumlahnya besar (ribuan). Sedangkan variabel 1 hingga 7 merupakan jumlah Secondary Macronutrients atau Micronutrients karena jumlahnya tidak sebesar variabel 8."
   ]
  },
  {
   "attachments": {},
   "cell_type": "markdown",
   "metadata": {},
   "source": [
    "# v. Feature Engineering"
   ]
  },
  {
   "attachments": {},
   "cell_type": "markdown",
   "metadata": {},
   "source": [
    "Pada tahap ini dilakukan penyiapan data untuk dilakukan modeling. Feature engineering meliputi pembagian train dan test set, handling missing values, handling outliers, scaling, encoding, dan proses-proses lain yang dibutuhkan."
   ]
  },
  {
   "cell_type": "code",
   "execution_count": 204,
   "metadata": {},
   "outputs": [],
   "source": [
    "# Copy dataset ke variabel baru\n",
    "df_new = df.copy()"
   ]
  },
  {
   "attachments": {},
   "cell_type": "markdown",
   "metadata": {},
   "source": [
    "### Train test split"
   ]
  },
  {
   "attachments": {},
   "cell_type": "markdown",
   "metadata": {},
   "source": [
    "Di tahap ini dilakukan pemisahan antara train set dan test set. Train set digunakan untuk melatih model sedangkan test set digunakan untuk menguji performansi prediksi model."
   ]
  },
  {
   "cell_type": "code",
   "execution_count": 205,
   "metadata": {},
   "outputs": [],
   "source": [
    "# Set fitur dan target\n",
    "X = df_new.drop(columns=[\"target\"])\n",
    "y = df_new[\"target\"]"
   ]
  },
  {
   "cell_type": "code",
   "execution_count": 206,
   "metadata": {},
   "outputs": [
    {
     "name": "stdout",
     "output_type": "stream",
     "text": [
      "Train size: 128\n",
      "Test size: 32\n"
     ]
    }
   ],
   "source": [
    "# Train test split\n",
    "X_train, X_test, y_train, y_test = train_test_split(X, y, train_size=0.8, random_state=7)\n",
    "print(\"Train size:\", X_train.shape[0])\n",
    "print(\"Test size:\", X_test.shape[0])"
   ]
  },
  {
   "attachments": {},
   "cell_type": "markdown",
   "metadata": {},
   "source": [
    "Dari hasil pemisahan 80% atau 128 data dari dataset dijadikan sebagai train set dan sisanya 20% atau 32 data dijadikan sebagai test set."
   ]
  },
  {
   "attachments": {},
   "cell_type": "markdown",
   "metadata": {},
   "source": [
    "### Handling outlier"
   ]
  },
  {
   "attachments": {},
   "cell_type": "markdown",
   "metadata": {},
   "source": [
    "Pada tahap ini dilakukan pengecekan data yang memiliki outlier (data yang memiliki nilai ekstrim atau tidak biasa) pada dataset dan dilakukan treatment pada data outlier tersebut."
   ]
  },
  {
   "cell_type": "code",
   "execution_count": 207,
   "metadata": {},
   "outputs": [
    {
     "name": "stdout",
     "output_type": "stream",
     "text": [
      "Distribusi normal: ['v7']\n",
      "Distribusi tidak normal: ['v1', 'v2', 'v3', 'v4', 'v5', 'v6', 'v8']\n"
     ]
    }
   ],
   "source": [
    "num_col = X_train.select_dtypes(include=np.number).columns.tolist() # Ambil list fitur numerik untuk handling outlier\n",
    "norm = [] # List distribusi normal\n",
    "skew = [] # List distribusi skew\n",
    "\n",
    "# Seleksi fitur distribusi\n",
    "for c in num_col:\n",
    "    if X_train[c].skew() <= 0.5 and X_train[c].skew() >= -0.5:\n",
    "        norm.append(c)\n",
    "    else:\n",
    "        skew.append(c)\n",
    "print(\"Distribusi normal:\", norm)\n",
    "print(\"Distribusi tidak normal:\", skew)"
   ]
  },
  {
   "attachments": {},
   "cell_type": "markdown",
   "metadata": {},
   "source": [
    "Dari hasil pengecekan distribusi, fitur variabel 7 (v7) merupakan fitur yang datanya berdistribusi normal. Sedangkan fitur variabel lainnya (variabel 1 hingga 6 dan 8) merupakan fitur yang datanya berdistribusi tidak normal (skew)."
   ]
  },
  {
   "cell_type": "code",
   "execution_count": 208,
   "metadata": {},
   "outputs": [
    {
     "name": "stdout",
     "output_type": "stream",
     "text": [
      "v7\n",
      "Batas atas :  872.6682389572501\n",
      "Batas bawah :  553.9799533007382\n",
      "Outlier diatas batas atas : 0\n",
      "Outlier dibawah batas bawah : 0\n",
      "Value maks :  853.466666666666\n",
      "Value min :  586.266666666666\n",
      "\n",
      "\n"
     ]
    }
   ],
   "source": [
    "# Deteksi outlier pada fitur distribusi normal\n",
    "for c in norm:\n",
    "    batas_atas = X_train[c].mean() + 3 * X_train[c].std()\n",
    "    batas_bawah = X_train[c].mean() - 3 * X_train[c].std()\n",
    "    print(c)\n",
    "    print(\"Batas atas : \", batas_atas)\n",
    "    print(\"Batas bawah : \", batas_bawah)\n",
    "    print(\"Outlier diatas batas atas : {}\".format(len(X_train[X_train[c] > batas_atas])))\n",
    "    print(\"Outlier dibawah batas bawah : {}\".format(len(X_train[X_train[c] < batas_bawah])))\n",
    "    print(\"Value maks : \", X_train[c].max())\n",
    "    print(\"Value min : \", X_train[c].min())\n",
    "    print(\"\\n\")"
   ]
  },
  {
   "attachments": {},
   "cell_type": "markdown",
   "metadata": {},
   "source": [
    "Pada fitur distribusi normal, setelah dilakukan pengecekan tidak ada data outlier."
   ]
  },
  {
   "cell_type": "code",
   "execution_count": 209,
   "metadata": {},
   "outputs": [
    {
     "name": "stdout",
     "output_type": "stream",
     "text": [
      "v1\n",
      "Batas atas :  934.7250000000005\n",
      "Batas bawah :  -131.60833333333466\n",
      "Outlier diatas batas atas : 0\n",
      "Outlier dibawah batas bawah : 0\n",
      "Value maks :  676.066666666666\n",
      "Value min :  237.6\n",
      "\n",
      "\n",
      "v2\n",
      "Batas atas :  341.6317708333344\n",
      "Batas bawah :  103.57204861110938\n",
      "Outlier diatas batas atas : 23\n",
      "Outlier dibawah batas bawah : 0\n",
      "Value maks :  414.2\n",
      "Value min :  178.8\n",
      "\n",
      "\n",
      "v3\n",
      "Batas atas :  905.091666666666\n",
      "Batas bawah :  70.09166666666601\n",
      "Outlier diatas batas atas : 0\n",
      "Outlier dibawah batas bawah : 0\n",
      "Value maks :  702.533333333333\n",
      "Value min :  355.5625\n",
      "\n",
      "\n",
      "v4\n",
      "Batas atas :  547.8109375000005\n",
      "Batas bawah :  229.6067708333325\n",
      "Outlier diatas batas atas : 3\n",
      "Outlier dibawah batas bawah : 0\n",
      "Value maks :  558.5\n",
      "Value min :  315.625\n",
      "\n",
      "\n",
      "v5\n",
      "Batas atas :  615.8359374999995\n",
      "Batas bawah :  297.54010416666665\n",
      "Outlier diatas batas atas : 25\n",
      "Outlier dibawah batas bawah : 0\n",
      "Value maks :  719.2\n",
      "Value min :  382.5625\n",
      "\n",
      "\n",
      "v6\n",
      "Batas atas :  361.1161458333333\n",
      "Batas bawah :  123.0286458333332\n",
      "Outlier diatas batas atas : 12\n",
      "Outlier dibawah batas bawah : 0\n",
      "Value maks :  404.5625\n",
      "Value min :  189.2\n",
      "\n",
      "\n",
      "v8\n",
      "Batas atas :  5385.071874999988\n",
      "Batas bawah :  3563.1468750000067\n",
      "Outlier diatas batas atas : 0\n",
      "Outlier dibawah batas bawah : 0\n",
      "Value maks :  5086.375\n",
      "Value min :  3725.66666666666\n",
      "\n",
      "\n"
     ]
    }
   ],
   "source": [
    "# Deteksi outlier pada fitur distribusi tidak normal\n",
    "for c in skew:\n",
    "    IQR = X_train[c].quantile(0.75) - X_train[c].quantile(0.25)\n",
    "    batas_atas = X_train[c].quantile(0.75) + (1.5 * IQR)\n",
    "    batas_bawah = X_train[c].quantile(0.25) - (1.5 * IQR)\n",
    "    print(c)\n",
    "    print(\"Batas atas : \", batas_atas)\n",
    "    print(\"Batas bawah : \", batas_bawah)\n",
    "    print(\"Outlier diatas batas atas : {}\".format(len(X_train[X_train[c] > batas_atas])))\n",
    "    print(\"Outlier dibawah batas bawah : {}\".format(len(X_train[X_train[c] < batas_bawah])))\n",
    "    print(\"Value maks : \", X_train[c].max())\n",
    "    print(\"Value min : \", X_train[c].min())\n",
    "    print(\"\\n\")"
   ]
  },
  {
   "attachments": {},
   "cell_type": "markdown",
   "metadata": {},
   "source": [
    "Pada fitur distribusi skew, terdapat outlier pada fitur variabel 2 (23 outlier diatas batas atas), variabel 4 (3 outlier diatas batas atas), variabel 5 (25 outlier diatas batas atas), dan variabel 6 (12 outlier diatas batas atas). Selanjutnya data outlier ini akan ditreatment dengan metode capping, capping merupakan salah satu metode handling outliers dengan mengganti nilai outlier menjadi batas atas (upper boundary) maupun batas bawah (lower boundary) dari kolom/fiturnya."
   ]
  },
  {
   "cell_type": "code",
   "execution_count": 210,
   "metadata": {},
   "outputs": [],
   "source": [
    "# Capping outlier menggunakan winsorizer\n",
    "winsorizer = Winsorizer(capping_method=\"iqr\", tail=\"both\", fold=1.5, variables=skew) # Capping untuk skew distribution\n",
    "\n",
    "winsorizer.fit(X_train)\n",
    "X_train = winsorizer.transform(X_train)"
   ]
  },
  {
   "cell_type": "code",
   "execution_count": 211,
   "metadata": {},
   "outputs": [
    {
     "name": "stdout",
     "output_type": "stream",
     "text": [
      "Distribusi normal: ['v7']\n",
      "Distribusi tidak normal: ['v1', 'v2', 'v3', 'v4', 'v5', 'v6', 'v8']\n"
     ]
    }
   ],
   "source": [
    "# Cek distribusi lagi setelah handling outlier\n",
    "norm = []\n",
    "skew = []\n",
    "\n",
    "for c in num_col:\n",
    "    if X_train[c].skew() <= 0.5 and X_train[c].skew() >= -0.5:\n",
    "        norm.append(c)\n",
    "    else:\n",
    "        skew.append(c)\n",
    "print(\"Distribusi normal:\", norm)\n",
    "print(\"Distribusi tidak normal:\", skew)"
   ]
  },
  {
   "attachments": {},
   "cell_type": "markdown",
   "metadata": {},
   "source": [
    "Setelah dilakukan handling outliers, distribusi data pada fitur variabel tetap sama (variabel 7 tetap berdistribusi normal, sedangkan varibel lainnya skew)."
   ]
  },
  {
   "attachments": {},
   "cell_type": "markdown",
   "metadata": {},
   "source": [
    "### Feature Selection"
   ]
  },
  {
   "attachments": {},
   "cell_type": "markdown",
   "metadata": {},
   "source": [
    "##### Korelasi fitur dengan target"
   ]
  },
  {
   "attachments": {},
   "cell_type": "markdown",
   "metadata": {},
   "source": [
    "Disini akan dilakukan seleksi fitur-fitur yang paling mempengaruhi nilai nutrisi tanaman. Sehingga akan meningkatkan akurasi model pada saat memprediksi target. Disini pengujian menggunakan uji pearson dan ANOVA. Untuk pengujian, threshold p-value yang ditetapkan disini adalah 0.05."
   ]
  },
  {
   "cell_type": "code",
   "execution_count": 212,
   "metadata": {},
   "outputs": [
    {
     "data": {
      "text/plain": [
       "v1   -0.147652\n",
       "v2   -0.446795\n",
       "v3   -0.149538\n",
       "v4   -0.433366\n",
       "v5   -0.347308\n",
       "v6   -0.487842\n",
       "v7   -0.397700\n",
       "v8    0.299448\n",
       "dtype: float64"
      ]
     },
     "execution_count": 212,
     "metadata": {},
     "output_type": "execute_result"
    }
   ],
   "source": [
    "# Cek korelasi fitur numerik dan target dengan pearson\n",
    "X_train[num_col].corrwith(y_train, method=\"pearson\")"
   ]
  },
  {
   "attachments": {},
   "cell_type": "markdown",
   "metadata": {},
   "source": [
    "Dari hasil korelasi, variabel 1 hingga 7 berkolerasi dengan nutrisi tanaman tetapi berbanding berbanding terbalik (negatif). Artinya jika nilai variabel 1 hingga 7 meningkat, maka nilai target menurun dan begitu juga sebaliknya. Sedangkan variabel 8 berbanding lurus (positif) terhadap nutrisi tanaman."
   ]
  },
  {
   "cell_type": "code",
   "execution_count": 213,
   "metadata": {},
   "outputs": [
    {
     "data": {
      "text/html": [
       "<div>\n",
       "<style scoped>\n",
       "    .dataframe tbody tr th:only-of-type {\n",
       "        vertical-align: middle;\n",
       "    }\n",
       "\n",
       "    .dataframe tbody tr th {\n",
       "        vertical-align: top;\n",
       "    }\n",
       "\n",
       "    .dataframe thead th {\n",
       "        text-align: right;\n",
       "    }\n",
       "</style>\n",
       "<table border=\"1\" class=\"dataframe\">\n",
       "  <thead>\n",
       "    <tr style=\"text-align: right;\">\n",
       "      <th></th>\n",
       "      <th>fitur</th>\n",
       "      <th>p-value</th>\n",
       "      <th>correlation</th>\n",
       "    </tr>\n",
       "  </thead>\n",
       "  <tbody>\n",
       "    <tr>\n",
       "      <th>0</th>\n",
       "      <td>v1</td>\n",
       "      <td>9.626667e-02</td>\n",
       "      <td>Not correlated</td>\n",
       "    </tr>\n",
       "    <tr>\n",
       "      <th>1</th>\n",
       "      <td>v2</td>\n",
       "      <td>1.246157e-07</td>\n",
       "      <td>Correlated</td>\n",
       "    </tr>\n",
       "    <tr>\n",
       "      <th>2</th>\n",
       "      <td>v3</td>\n",
       "      <td>9.204353e-02</td>\n",
       "      <td>Not correlated</td>\n",
       "    </tr>\n",
       "    <tr>\n",
       "      <th>3</th>\n",
       "      <td>v4</td>\n",
       "      <td>3.228402e-07</td>\n",
       "      <td>Correlated</td>\n",
       "    </tr>\n",
       "    <tr>\n",
       "      <th>4</th>\n",
       "      <td>v5</td>\n",
       "      <td>5.905362e-05</td>\n",
       "      <td>Correlated</td>\n",
       "    </tr>\n",
       "    <tr>\n",
       "      <th>5</th>\n",
       "      <td>v6</td>\n",
       "      <td>5.198614e-09</td>\n",
       "      <td>Correlated</td>\n",
       "    </tr>\n",
       "    <tr>\n",
       "      <th>6</th>\n",
       "      <td>v7</td>\n",
       "      <td>3.342916e-06</td>\n",
       "      <td>Correlated</td>\n",
       "    </tr>\n",
       "    <tr>\n",
       "      <th>7</th>\n",
       "      <td>v8</td>\n",
       "      <td>5.952371e-04</td>\n",
       "      <td>Correlated</td>\n",
       "    </tr>\n",
       "  </tbody>\n",
       "</table>\n",
       "</div>"
      ],
      "text/plain": [
       "  fitur       p-value     correlation\n",
       "0    v1  9.626667e-02  Not correlated\n",
       "1    v2  1.246157e-07      Correlated\n",
       "2    v3  9.204353e-02  Not correlated\n",
       "3    v4  3.228402e-07      Correlated\n",
       "4    v5  5.905362e-05      Correlated\n",
       "5    v6  5.198614e-09      Correlated\n",
       "6    v7  3.342916e-06      Correlated\n",
       "7    v8  5.952371e-04      Correlated"
      ]
     },
     "execution_count": 213,
     "metadata": {},
     "output_type": "execute_result"
    }
   ],
   "source": [
    "# Cek yang paling berkolerasi dengan target berdasarkan p value\n",
    "\n",
    "f_stat, p_val = f_regression(X_train[num_col], y_train)\n",
    "col_list = X_train[num_col].columns.to_list()\n",
    "data = {\n",
    "    \"fitur\" : col_list,\n",
    "    \"p-value\" : p_val\n",
    "}\n",
    "pearson_df = pd.DataFrame(data=data)\n",
    "pearson_df[\"correlation\"] = np.where(pearson_df[\"p-value\"] > 0.05, \"Not correlated\", \"Correlated\")\n",
    "pearson_df"
   ]
  },
  {
   "attachments": {},
   "cell_type": "markdown",
   "metadata": {},
   "source": [
    "Dari hasil pengujian pearson, didapatkan variabel 1 dan variabel 3 tidak mempunyai korelasi dengan target (nutrisi tanaman). Sehingga fitur tersebut tidak diikutsertakan ke modeling."
   ]
  },
  {
   "cell_type": "code",
   "execution_count": 214,
   "metadata": {},
   "outputs": [
    {
     "name": "stdout",
     "output_type": "stream",
     "text": [
      "0.421758028381176\n",
      "Not Correlated\n"
     ]
    },
    {
     "name": "stderr",
     "output_type": "stream",
     "text": [
      "C:\\Users\\user\\AppData\\Local\\Temp\\ipykernel_14740\\1847492935.py:3: SettingWithCopyWarning: \n",
      "A value is trying to be set on a copy of a slice from a DataFrame\n",
      "\n",
      "See the caveats in the documentation: https://pandas.pydata.org/pandas-docs/stable/user_guide/indexing.html#returning-a-view-versus-a-copy\n",
      "  cat_col[\"sample_type\"].replace([\"lab 1\",\"lab 2\"], [0,1], inplace=True) # Encode kategorik\n"
     ]
    }
   ],
   "source": [
    "# Cek korelasi fitur kategorik dan target dengan ANOVA\n",
    "cat_col = X_train[[\"sample_type\"]]\n",
    "cat_col[\"sample_type\"].replace([\"lab 1\",\"lab 2\"], [0,1], inplace=True) # Encode kategorik\n",
    "f_stat, p_val = f_classif(cat_col, y_train)\n",
    "print(p_val[0])\n",
    "if p_val[0] > 0.05:\n",
    "    print(\"Not Correlated\")\n",
    "else:\n",
    "    print(\"Correlated\")"
   ]
  },
  {
   "attachments": {},
   "cell_type": "markdown",
   "metadata": {},
   "source": [
    "Dari hasil pengujian ANOVA, tidak ada korelasi antara fitur kategorik (sample_type) dengan target (nutrisi tanaman). Dapat dikatakan jenis pengambilan sampel dari suatu lab tidak mempengaruhi nilai nutrisi tanaman. Sehingga fitur tidak akan digunakan untuk modeling."
   ]
  },
  {
   "attachments": {},
   "cell_type": "markdown",
   "metadata": {},
   "source": [
    "##### Korelasi antar fitur"
   ]
  },
  {
   "attachments": {},
   "cell_type": "markdown",
   "metadata": {},
   "source": [
    "Setelah dilakukan seleksi terhadap korelasi fitur dengan target, selanjutnya akan dilakukan seleksi berdasarkan seleksi antara fitur. Jika dua buah fitur atau lebih memiliki korelasi yang tinggi maka akan dipilih salah satu fitur untuk mewakili fitur-fitur yang berkolerasi tinggi tersebut karena nilainya sebanding."
   ]
  },
  {
   "cell_type": "code",
   "execution_count": 215,
   "metadata": {},
   "outputs": [
    {
     "data": {
      "text/plain": [
       "<AxesSubplot: >"
      ]
     },
     "execution_count": 215,
     "metadata": {},
     "output_type": "execute_result"
    },
    {
     "data": {
      "image/png": "[encoded data removed]",
      "text/plain": [
       "<Figure size 640x480 with 2 Axes>"
      ]
     },
     "metadata": {},
     "output_type": "display_data"
    }
   ],
   "source": [
    "# Cek korelasi antar fitur dengan heatmap\n",
    "sns.heatmap(X_train[[\"v2\", \"v4\", \"v5\", \"v6\", \"v7\", \"v8\"]].corr(method=\"spearman\"), annot=True)"
   ]
  },
  {
   "attachments": {},
   "cell_type": "markdown",
   "metadata": {},
   "source": [
    "Dari hasil heatmap fitur variabel 2 hingga 6 mempunyai korelasi yang tinggi (rata-rata korelasinya 0.9), sedangakan varibel 7 dan 8 korelasinya tidak terlalu tinggi. Maka variabel 2 akan dipilih untuk mewakili variabel 2 hingga 6. Kemudian variabel 7 dan 8 akan dipilih juga untuk modeling karena kurang berkolerasi terhadap variabel 2 maupun satu sama lain. Sehingga hasil seleksi fitur akhir yang digunakan untuk modeling hanya fitur variabel 2, 7 dan 8."
   ]
  },
  {
   "attachments": {},
   "cell_type": "markdown",
   "metadata": {},
   "source": [
    "##### Feature scaling"
   ]
  },
  {
   "attachments": {},
   "cell_type": "markdown",
   "metadata": {},
   "source": [
    "Pada tahap ini dilakukan scaling pada fitur yang numerik, karena pada data ini fitur-fiturnya memiliki rentang yang berbeda (variabel 8 rentangnya ribuan, variabel 2 dan 7 ratusan) maka diperlukan penyamaan rentang nilai. Untuk scaling fitur yang berdistribusi normal menggunakan Standard Scaler, kemudian untuk yang berdistribusi skew menggunakan Min Max Scaler."
   ]
  },
  {
   "cell_type": "code",
   "execution_count": 216,
   "metadata": {},
   "outputs": [],
   "source": [
    "# Pembagian fitur distribusi normal dan skew\n",
    "num_col_nd = [\"v7\"]\n",
    "num_col_sd = [\"v2\", \"v8\"]"
   ]
  },
  {
   "cell_type": "code",
   "execution_count": 217,
   "metadata": {},
   "outputs": [],
   "source": [
    "# Scaling fitur distribusi normal\n",
    "standard_scaler = StandardScaler()\n",
    "X_train_norm = standard_scaler.fit_transform(X_train[num_col_nd])\n",
    "X_test_norm = standard_scaler.transform(X_test[num_col_nd])"
   ]
  },
  {
   "cell_type": "code",
   "execution_count": 218,
   "metadata": {},
   "outputs": [],
   "source": [
    "# Scaling fitur distribusi skew\n",
    "minmax_scaler = MinMaxScaler()\n",
    "X_train_skew = minmax_scaler.fit_transform(X_train[num_col_sd])\n",
    "X_test_skew = minmax_scaler.transform(X_test[num_col_sd])"
   ]
  },
  {
   "cell_type": "code",
   "execution_count": 219,
   "metadata": {},
   "outputs": [],
   "source": [
    "# Concat hasil scaling\n",
    "X_train_final = np.concatenate([X_train_norm, X_train_skew], axis=1)\n",
    "X_test_final = np.concatenate([X_test_norm, X_test_skew], axis=1)"
   ]
  },
  {
   "attachments": {},
   "cell_type": "markdown",
   "metadata": {},
   "source": [
    "# vi. Modeling"
   ]
  },
  {
   "attachments": {},
   "cell_type": "markdown",
   "metadata": {},
   "source": [
    "### Model Definition"
   ]
  },
  {
   "attachments": {},
   "cell_type": "markdown",
   "metadata": {},
   "source": [
    "Untuk membuat model disini menggunakan beberapa algoritma machine learning, yaitu Linear Regression, SVM, KNN, Decision Tree, Random Forest, dan Ada Boost. Dari beberapa algoritma tersebut akan dievaluasi performancenya. Algoritma yang mempunyai performance terbaik akan dipilih sebagai base algoritma model untuk memprediksi nutrisi tanaman."
   ]
  },
  {
   "cell_type": "code",
   "execution_count": 220,
   "metadata": {},
   "outputs": [],
   "source": [
    "# Model initialization\n",
    "model_lr = LinearRegression()\n",
    "model_svm = SVR()\n",
    "model_knn = KNeighborsRegressor()\n",
    "model_dt = DecisionTreeRegressor(random_state=7)\n",
    "model_rf = RandomForestRegressor(random_state=7)\n",
    "model_ab = AdaBoostRegressor(random_state=7)"
   ]
  },
  {
   "attachments": {},
   "cell_type": "markdown",
   "metadata": {},
   "source": [
    "### Model Training"
   ]
  },
  {
   "attachments": {},
   "cell_type": "markdown",
   "metadata": {},
   "source": [
    "Selanjutnya dilakukan training model dengan menggunakan train set."
   ]
  },
  {
   "cell_type": "code",
   "execution_count": 221,
   "metadata": {},
   "outputs": [
    {
     "data": {
      "text/html": [
       "<style>#sk-container-id-36 {color: black;background-color: white;}#sk-container-id-36 pre{padding: 0;}#sk-container-id-36 div.sk-toggleable {background-color: white;}#sk-container-id-36 label.sk-toggleable__label {cursor: pointer;display: block;width: 100%;margin-bottom: 0;padding: 0.3em;box-sizing: border-box;text-align: center;}#sk-container-id-36 label.sk-toggleable__label-arrow:before {content: \"▸\";float: left;margin-right: 0.25em;color: #696969;}#sk-container-id-36 label.sk-toggleable__label-arrow:hover:before {color: black;}#sk-container-id-36 div.sk-estimator:hover label.sk-toggleable__label-arrow:before {color: black;}#sk-container-id-36 div.sk-toggleable__content {max-height: 0;max-width: 0;overflow: hidden;text-align: left;background-color: #f0f8ff;}#sk-container-id-36 div.sk-toggleable__content pre {margin: 0.2em;color: black;border-radius: 0.25em;background-color: #f0f8ff;}#sk-container-id-36 input.sk-toggleable__control:checked~div.sk-toggleable__content {max-height: 200px;max-width: 100%;overflow: auto;}#sk-container-id-36 input.sk-toggleable__control:checked~label.sk-toggleable__label-arrow:before {content: \"▾\";}#sk-container-id-36 div.sk-estimator input.sk-toggleable__control:checked~label.sk-toggleable__label {background-color: #d4ebff;}#sk-container-id-36 div.sk-label input.sk-toggleable__control:checked~label.sk-toggleable__label {background-color: #d4ebff;}#sk-container-id-36 input.sk-hidden--visually {border: 0;clip: rect(1px 1px 1px 1px);clip: rect(1px, 1px, 1px, 1px);height: 1px;margin: -1px;overflow: hidden;padding: 0;position: absolute;width: 1px;}#sk-container-id-36 div.sk-estimator {font-family: monospace;background-color: #f0f8ff;border: 1px dotted black;border-radius: 0.25em;box-sizing: border-box;margin-bottom: 0.5em;}#sk-container-id-36 div.sk-estimator:hover {background-color: #d4ebff;}#sk-container-id-36 div.sk-parallel-item::after {content: \"\";width: 100%;border-bottom: 1px solid gray;flex-grow: 1;}#sk-container-id-36 div.sk-label:hover label.sk-toggleable__label {background-color: #d4ebff;}#sk-container-id-36 div.sk-serial::before {content: \"\";position: absolute;border-left: 1px solid gray;box-sizing: border-box;top: 0;bottom: 0;left: 50%;z-index: 0;}#sk-container-id-36 div.sk-serial {display: flex;flex-direction: column;align-items: center;background-color: white;padding-right: 0.2em;padding-left: 0.2em;position: relative;}#sk-container-id-36 div.sk-item {position: relative;z-index: 1;}#sk-container-id-36 div.sk-parallel {display: flex;align-items: stretch;justify-content: center;background-color: white;position: relative;}#sk-container-id-36 div.sk-item::before, #sk-container-id-36 div.sk-parallel-item::before {content: \"\";position: absolute;border-left: 1px solid gray;box-sizing: border-box;top: 0;bottom: 0;left: 50%;z-index: -1;}#sk-container-id-36 div.sk-parallel-item {display: flex;flex-direction: column;z-index: 1;position: relative;background-color: white;}#sk-container-id-36 div.sk-parallel-item:first-child::after {align-self: flex-end;width: 50%;}#sk-container-id-36 div.sk-parallel-item:last-child::after {align-self: flex-start;width: 50%;}#sk-container-id-36 div.sk-parallel-item:only-child::after {width: 0;}#sk-container-id-36 div.sk-dashed-wrapped {border: 1px dashed gray;margin: 0 0.4em 0.5em 0.4em;box-sizing: border-box;padding-bottom: 0.4em;background-color: white;}#sk-container-id-36 div.sk-label label {font-family: monospace;font-weight: bold;display: inline-block;line-height: 1.2em;}#sk-container-id-36 div.sk-label-container {text-align: center;}#sk-container-id-36 div.sk-container {/* jupyter's `normalize.less` sets `[hidden] { display: none; }` but bootstrap.min.css set `[hidden] { display: none !important; }` so we also need the `!important` here to be able to override the default hidden behavior on the sphinx rendered scikit-learn.org. See: https://github.com/scikit-learn/scikit-learn/issues/21755 */display: inline-block !important;position: relative;}#sk-container-id-36 div.sk-text-repr-fallback {display: none;}</style><div id=\"sk-container-id-36\" class=\"sk-top-container\"><div class=\"sk-text-repr-fallback\"><pre>LinearRegression()</pre><b>In a Jupyter environment, please rerun this cell to show the HTML representation or trust the notebook. <br />On GitHub, the HTML representation is unable to render, please try loading this page with nbviewer.org.</b></div><div class=\"sk-container\" hidden><div class=\"sk-item\"><div class=\"sk-estimator sk-toggleable\"><input class=\"sk-toggleable__control sk-hidden--visually\" id=\"sk-estimator-id-44\" type=\"checkbox\" checked><label for=\"sk-estimator-id-44\" class=\"sk-toggleable__label sk-toggleable__label-arrow\">LinearRegression</label><div class=\"sk-toggleable__content\"><pre>LinearRegression()</pre></div></div></div></div></div>"
      ],
      "text/plain": [
       "LinearRegression()"
      ]
     },
     "execution_count": 221,
     "metadata": {},
     "output_type": "execute_result"
    }
   ],
   "source": [
    "# Training model Linear Regression\n",
    "model_lr.fit(X_train_final, y_train)"
   ]
  },
  {
   "cell_type": "code",
   "execution_count": 222,
   "metadata": {},
   "outputs": [
    {
     "data": {
      "text/html": [
       "<style>#sk-container-id-37 {color: black;background-color: white;}#sk-container-id-37 pre{padding: 0;}#sk-container-id-37 div.sk-toggleable {background-color: white;}#sk-container-id-37 label.sk-toggleable__label {cursor: pointer;display: block;width: 100%;margin-bottom: 0;padding: 0.3em;box-sizing: border-box;text-align: center;}#sk-container-id-37 label.sk-toggleable__label-arrow:before {content: \"▸\";float: left;margin-right: 0.25em;color: #696969;}#sk-container-id-37 label.sk-toggleable__label-arrow:hover:before {color: black;}#sk-container-id-37 div.sk-estimator:hover label.sk-toggleable__label-arrow:before {color: black;}#sk-container-id-37 div.sk-toggleable__content {max-height: 0;max-width: 0;overflow: hidden;text-align: left;background-color: #f0f8ff;}#sk-container-id-37 div.sk-toggleable__content pre {margin: 0.2em;color: black;border-radius: 0.25em;background-color: #f0f8ff;}#sk-container-id-37 input.sk-toggleable__control:checked~div.sk-toggleable__content {max-height: 200px;max-width: 100%;overflow: auto;}#sk-container-id-37 input.sk-toggleable__control:checked~label.sk-toggleable__label-arrow:before {content: \"▾\";}#sk-container-id-37 div.sk-estimator input.sk-toggleable__control:checked~label.sk-toggleable__label {background-color: #d4ebff;}#sk-container-id-37 div.sk-label input.sk-toggleable__control:checked~label.sk-toggleable__label {background-color: #d4ebff;}#sk-container-id-37 input.sk-hidden--visually {border: 0;clip: rect(1px 1px 1px 1px);clip: rect(1px, 1px, 1px, 1px);height: 1px;margin: -1px;overflow: hidden;padding: 0;position: absolute;width: 1px;}#sk-container-id-37 div.sk-estimator {font-family: monospace;background-color: #f0f8ff;border: 1px dotted black;border-radius: 0.25em;box-sizing: border-box;margin-bottom: 0.5em;}#sk-container-id-37 div.sk-estimator:hover {background-color: #d4ebff;}#sk-container-id-37 div.sk-parallel-item::after {content: \"\";width: 100%;border-bottom: 1px solid gray;flex-grow: 1;}#sk-container-id-37 div.sk-label:hover label.sk-toggleable__label {background-color: #d4ebff;}#sk-container-id-37 div.sk-serial::before {content: \"\";position: absolute;border-left: 1px solid gray;box-sizing: border-box;top: 0;bottom: 0;left: 50%;z-index: 0;}#sk-container-id-37 div.sk-serial {display: flex;flex-direction: column;align-items: center;background-color: white;padding-right: 0.2em;padding-left: 0.2em;position: relative;}#sk-container-id-37 div.sk-item {position: relative;z-index: 1;}#sk-container-id-37 div.sk-parallel {display: flex;align-items: stretch;justify-content: center;background-color: white;position: relative;}#sk-container-id-37 div.sk-item::before, #sk-container-id-37 div.sk-parallel-item::before {content: \"\";position: absolute;border-left: 1px solid gray;box-sizing: border-box;top: 0;bottom: 0;left: 50%;z-index: -1;}#sk-container-id-37 div.sk-parallel-item {display: flex;flex-direction: column;z-index: 1;position: relative;background-color: white;}#sk-container-id-37 div.sk-parallel-item:first-child::after {align-self: flex-end;width: 50%;}#sk-container-id-37 div.sk-parallel-item:last-child::after {align-self: flex-start;width: 50%;}#sk-container-id-37 div.sk-parallel-item:only-child::after {width: 0;}#sk-container-id-37 div.sk-dashed-wrapped {border: 1px dashed gray;margin: 0 0.4em 0.5em 0.4em;box-sizing: border-box;padding-bottom: 0.4em;background-color: white;}#sk-container-id-37 div.sk-label label {font-family: monospace;font-weight: bold;display: inline-block;line-height: 1.2em;}#sk-container-id-37 div.sk-label-container {text-align: center;}#sk-container-id-37 div.sk-container {/* jupyter's `normalize.less` sets `[hidden] { display: none; }` but bootstrap.min.css set `[hidden] { display: none !important; }` so we also need the `!important` here to be able to override the default hidden behavior on the sphinx rendered scikit-learn.org. See: https://github.com/scikit-learn/scikit-learn/issues/21755 */display: inline-block !important;position: relative;}#sk-container-id-37 div.sk-text-repr-fallback {display: none;}</style><div id=\"sk-container-id-37\" class=\"sk-top-container\"><div class=\"sk-text-repr-fallback\"><pre>SVR()</pre><b>In a Jupyter environment, please rerun this cell to show the HTML representation or trust the notebook. <br />On GitHub, the HTML representation is unable to render, please try loading this page with nbviewer.org.</b></div><div class=\"sk-container\" hidden><div class=\"sk-item\"><div class=\"sk-estimator sk-toggleable\"><input class=\"sk-toggleable__control sk-hidden--visually\" id=\"sk-estimator-id-45\" type=\"checkbox\" checked><label for=\"sk-estimator-id-45\" class=\"sk-toggleable__label sk-toggleable__label-arrow\">SVR</label><div class=\"sk-toggleable__content\"><pre>SVR()</pre></div></div></div></div></div>"
      ],
      "text/plain": [
       "SVR()"
      ]
     },
     "execution_count": 222,
     "metadata": {},
     "output_type": "execute_result"
    }
   ],
   "source": [
    "# Training model SVM\n",
    "model_svm.fit(X_train_final, y_train)"
   ]
  },
  {
   "cell_type": "code",
   "execution_count": 223,
   "metadata": {},
   "outputs": [
    {
     "data": {
      "text/html": [
       "<style>#sk-container-id-38 {color: black;background-color: white;}#sk-container-id-38 pre{padding: 0;}#sk-container-id-38 div.sk-toggleable {background-color: white;}#sk-container-id-38 label.sk-toggleable__label {cursor: pointer;display: block;width: 100%;margin-bottom: 0;padding: 0.3em;box-sizing: border-box;text-align: center;}#sk-container-id-38 label.sk-toggleable__label-arrow:before {content: \"▸\";float: left;margin-right: 0.25em;color: #696969;}#sk-container-id-38 label.sk-toggleable__label-arrow:hover:before {color: black;}#sk-container-id-38 div.sk-estimator:hover label.sk-toggleable__label-arrow:before {color: black;}#sk-container-id-38 div.sk-toggleable__content {max-height: 0;max-width: 0;overflow: hidden;text-align: left;background-color: #f0f8ff;}#sk-container-id-38 div.sk-toggleable__content pre {margin: 0.2em;color: black;border-radius: 0.25em;background-color: #f0f8ff;}#sk-container-id-38 input.sk-toggleable__control:checked~div.sk-toggleable__content {max-height: 200px;max-width: 100%;overflow: auto;}#sk-container-id-38 input.sk-toggleable__control:checked~label.sk-toggleable__label-arrow:before {content: \"▾\";}#sk-container-id-38 div.sk-estimator input.sk-toggleable__control:checked~label.sk-toggleable__label {background-color: #d4ebff;}#sk-container-id-38 div.sk-label input.sk-toggleable__control:checked~label.sk-toggleable__label {background-color: #d4ebff;}#sk-container-id-38 input.sk-hidden--visually {border: 0;clip: rect(1px 1px 1px 1px);clip: rect(1px, 1px, 1px, 1px);height: 1px;margin: -1px;overflow: hidden;padding: 0;position: absolute;width: 1px;}#sk-container-id-38 div.sk-estimator {font-family: monospace;background-color: #f0f8ff;border: 1px dotted black;border-radius: 0.25em;box-sizing: border-box;margin-bottom: 0.5em;}#sk-container-id-38 div.sk-estimator:hover {background-color: #d4ebff;}#sk-container-id-38 div.sk-parallel-item::after {content: \"\";width: 100%;border-bottom: 1px solid gray;flex-grow: 1;}#sk-container-id-38 div.sk-label:hover label.sk-toggleable__label {background-color: #d4ebff;}#sk-container-id-38 div.sk-serial::before {content: \"\";position: absolute;border-left: 1px solid gray;box-sizing: border-box;top: 0;bottom: 0;left: 50%;z-index: 0;}#sk-container-id-38 div.sk-serial {display: flex;flex-direction: column;align-items: center;background-color: white;padding-right: 0.2em;padding-left: 0.2em;position: relative;}#sk-container-id-38 div.sk-item {position: relative;z-index: 1;}#sk-container-id-38 div.sk-parallel {display: flex;align-items: stretch;justify-content: center;background-color: white;position: relative;}#sk-container-id-38 div.sk-item::before, #sk-container-id-38 div.sk-parallel-item::before {content: \"\";position: absolute;border-left: 1px solid gray;box-sizing: border-box;top: 0;bottom: 0;left: 50%;z-index: -1;}#sk-container-id-38 div.sk-parallel-item {display: flex;flex-direction: column;z-index: 1;position: relative;background-color: white;}#sk-container-id-38 div.sk-parallel-item:first-child::after {align-self: flex-end;width: 50%;}#sk-container-id-38 div.sk-parallel-item:last-child::after {align-self: flex-start;width: 50%;}#sk-container-id-38 div.sk-parallel-item:only-child::after {width: 0;}#sk-container-id-38 div.sk-dashed-wrapped {border: 1px dashed gray;margin: 0 0.4em 0.5em 0.4em;box-sizing: border-box;padding-bottom: 0.4em;background-color: white;}#sk-container-id-38 div.sk-label label {font-family: monospace;font-weight: bold;display: inline-block;line-height: 1.2em;}#sk-container-id-38 div.sk-label-container {text-align: center;}#sk-container-id-38 div.sk-container {/* jupyter's `normalize.less` sets `[hidden] { display: none; }` but bootstrap.min.css set `[hidden] { display: none !important; }` so we also need the `!important` here to be able to override the default hidden behavior on the sphinx rendered scikit-learn.org. See: https://github.com/scikit-learn/scikit-learn/issues/21755 */display: inline-block !important;position: relative;}#sk-container-id-38 div.sk-text-repr-fallback {display: none;}</style><div id=\"sk-container-id-38\" class=\"sk-top-container\"><div class=\"sk-text-repr-fallback\"><pre>KNeighborsRegressor()</pre><b>In a Jupyter environment, please rerun this cell to show the HTML representation or trust the notebook. <br />On GitHub, the HTML representation is unable to render, please try loading this page with nbviewer.org.</b></div><div class=\"sk-container\" hidden><div class=\"sk-item\"><div class=\"sk-estimator sk-toggleable\"><input class=\"sk-toggleable__control sk-hidden--visually\" id=\"sk-estimator-id-46\" type=\"checkbox\" checked><label for=\"sk-estimator-id-46\" class=\"sk-toggleable__label sk-toggleable__label-arrow\">KNeighborsRegressor</label><div class=\"sk-toggleable__content\"><pre>KNeighborsRegressor()</pre></div></div></div></div></div>"
      ],
      "text/plain": [
       "KNeighborsRegressor()"
      ]
     },
     "execution_count": 223,
     "metadata": {},
     "output_type": "execute_result"
    }
   ],
   "source": [
    "# Training model KNN\n",
    "model_knn.fit(X_train_final, y_train)"
   ]
  },
  {
   "cell_type": "code",
   "execution_count": 224,
   "metadata": {},
   "outputs": [
    {
     "data": {
      "text/html": [
       "<style>#sk-container-id-39 {color: black;background-color: white;}#sk-container-id-39 pre{padding: 0;}#sk-container-id-39 div.sk-toggleable {background-color: white;}#sk-container-id-39 label.sk-toggleable__label {cursor: pointer;display: block;width: 100%;margin-bottom: 0;padding: 0.3em;box-sizing: border-box;text-align: center;}#sk-container-id-39 label.sk-toggleable__label-arrow:before {content: \"▸\";float: left;margin-right: 0.25em;color: #696969;}#sk-container-id-39 label.sk-toggleable__label-arrow:hover:before {color: black;}#sk-container-id-39 div.sk-estimator:hover label.sk-toggleable__label-arrow:before {color: black;}#sk-container-id-39 div.sk-toggleable__content {max-height: 0;max-width: 0;overflow: hidden;text-align: left;background-color: #f0f8ff;}#sk-container-id-39 div.sk-toggleable__content pre {margin: 0.2em;color: black;border-radius: 0.25em;background-color: #f0f8ff;}#sk-container-id-39 input.sk-toggleable__control:checked~div.sk-toggleable__content {max-height: 200px;max-width: 100%;overflow: auto;}#sk-container-id-39 input.sk-toggleable__control:checked~label.sk-toggleable__label-arrow:before {content: \"▾\";}#sk-container-id-39 div.sk-estimator input.sk-toggleable__control:checked~label.sk-toggleable__label {background-color: #d4ebff;}#sk-container-id-39 div.sk-label input.sk-toggleable__control:checked~label.sk-toggleable__label {background-color: #d4ebff;}#sk-container-id-39 input.sk-hidden--visually {border: 0;clip: rect(1px 1px 1px 1px);clip: rect(1px, 1px, 1px, 1px);height: 1px;margin: -1px;overflow: hidden;padding: 0;position: absolute;width: 1px;}#sk-container-id-39 div.sk-estimator {font-family: monospace;background-color: #f0f8ff;border: 1px dotted black;border-radius: 0.25em;box-sizing: border-box;margin-bottom: 0.5em;}#sk-container-id-39 div.sk-estimator:hover {background-color: #d4ebff;}#sk-container-id-39 div.sk-parallel-item::after {content: \"\";width: 100%;border-bottom: 1px solid gray;flex-grow: 1;}#sk-container-id-39 div.sk-label:hover label.sk-toggleable__label {background-color: #d4ebff;}#sk-container-id-39 div.sk-serial::before {content: \"\";position: absolute;border-left: 1px solid gray;box-sizing: border-box;top: 0;bottom: 0;left: 50%;z-index: 0;}#sk-container-id-39 div.sk-serial {display: flex;flex-direction: column;align-items: center;background-color: white;padding-right: 0.2em;padding-left: 0.2em;position: relative;}#sk-container-id-39 div.sk-item {position: relative;z-index: 1;}#sk-container-id-39 div.sk-parallel {display: flex;align-items: stretch;justify-content: center;background-color: white;position: relative;}#sk-container-id-39 div.sk-item::before, #sk-container-id-39 div.sk-parallel-item::before {content: \"\";position: absolute;border-left: 1px solid gray;box-sizing: border-box;top: 0;bottom: 0;left: 50%;z-index: -1;}#sk-container-id-39 div.sk-parallel-item {display: flex;flex-direction: column;z-index: 1;position: relative;background-color: white;}#sk-container-id-39 div.sk-parallel-item:first-child::after {align-self: flex-end;width: 50%;}#sk-container-id-39 div.sk-parallel-item:last-child::after {align-self: flex-start;width: 50%;}#sk-container-id-39 div.sk-parallel-item:only-child::after {width: 0;}#sk-container-id-39 div.sk-dashed-wrapped {border: 1px dashed gray;margin: 0 0.4em 0.5em 0.4em;box-sizing: border-box;padding-bottom: 0.4em;background-color: white;}#sk-container-id-39 div.sk-label label {font-family: monospace;font-weight: bold;display: inline-block;line-height: 1.2em;}#sk-container-id-39 div.sk-label-container {text-align: center;}#sk-container-id-39 div.sk-container {/* jupyter's `normalize.less` sets `[hidden] { display: none; }` but bootstrap.min.css set `[hidden] { display: none !important; }` so we also need the `!important` here to be able to override the default hidden behavior on the sphinx rendered scikit-learn.org. See: https://github.com/scikit-learn/scikit-learn/issues/21755 */display: inline-block !important;position: relative;}#sk-container-id-39 div.sk-text-repr-fallback {display: none;}</style><div id=\"sk-container-id-39\" class=\"sk-top-container\"><div class=\"sk-text-repr-fallback\"><pre>DecisionTreeRegressor(random_state=7)</pre><b>In a Jupyter environment, please rerun this cell to show the HTML representation or trust the notebook. <br />On GitHub, the HTML representation is unable to render, please try loading this page with nbviewer.org.</b></div><div class=\"sk-container\" hidden><div class=\"sk-item\"><div class=\"sk-estimator sk-toggleable\"><input class=\"sk-toggleable__control sk-hidden--visually\" id=\"sk-estimator-id-47\" type=\"checkbox\" checked><label for=\"sk-estimator-id-47\" class=\"sk-toggleable__label sk-toggleable__label-arrow\">DecisionTreeRegressor</label><div class=\"sk-toggleable__content\"><pre>DecisionTreeRegressor(random_state=7)</pre></div></div></div></div></div>"
      ],
      "text/plain": [
       "DecisionTreeRegressor(random_state=7)"
      ]
     },
     "execution_count": 224,
     "metadata": {},
     "output_type": "execute_result"
    }
   ],
   "source": [
    "# Training model Decision Tree\n",
    "model_dt.fit(X_train_final, y_train)"
   ]
  },
  {
   "cell_type": "code",
   "execution_count": 225,
   "metadata": {},
   "outputs": [
    {
     "data": {
      "text/html": [
       "<style>#sk-container-id-40 {color: black;background-color: white;}#sk-container-id-40 pre{padding: 0;}#sk-container-id-40 div.sk-toggleable {background-color: white;}#sk-container-id-40 label.sk-toggleable__label {cursor: pointer;display: block;width: 100%;margin-bottom: 0;padding: 0.3em;box-sizing: border-box;text-align: center;}#sk-container-id-40 label.sk-toggleable__label-arrow:before {content: \"▸\";float: left;margin-right: 0.25em;color: #696969;}#sk-container-id-40 label.sk-toggleable__label-arrow:hover:before {color: black;}#sk-container-id-40 div.sk-estimator:hover label.sk-toggleable__label-arrow:before {color: black;}#sk-container-id-40 div.sk-toggleable__content {max-height: 0;max-width: 0;overflow: hidden;text-align: left;background-color: #f0f8ff;}#sk-container-id-40 div.sk-toggleable__content pre {margin: 0.2em;color: black;border-radius: 0.25em;background-color: #f0f8ff;}#sk-container-id-40 input.sk-toggleable__control:checked~div.sk-toggleable__content {max-height: 200px;max-width: 100%;overflow: auto;}#sk-container-id-40 input.sk-toggleable__control:checked~label.sk-toggleable__label-arrow:before {content: \"▾\";}#sk-container-id-40 div.sk-estimator input.sk-toggleable__control:checked~label.sk-toggleable__label {background-color: #d4ebff;}#sk-container-id-40 div.sk-label input.sk-toggleable__control:checked~label.sk-toggleable__label {background-color: #d4ebff;}#sk-container-id-40 input.sk-hidden--visually {border: 0;clip: rect(1px 1px 1px 1px);clip: rect(1px, 1px, 1px, 1px);height: 1px;margin: -1px;overflow: hidden;padding: 0;position: absolute;width: 1px;}#sk-container-id-40 div.sk-estimator {font-family: monospace;background-color: #f0f8ff;border: 1px dotted black;border-radius: 0.25em;box-sizing: border-box;margin-bottom: 0.5em;}#sk-container-id-40 div.sk-estimator:hover {background-color: #d4ebff;}#sk-container-id-40 div.sk-parallel-item::after {content: \"\";width: 100%;border-bottom: 1px solid gray;flex-grow: 1;}#sk-container-id-40 div.sk-label:hover label.sk-toggleable__label {background-color: #d4ebff;}#sk-container-id-40 div.sk-serial::before {content: \"\";position: absolute;border-left: 1px solid gray;box-sizing: border-box;top: 0;bottom: 0;left: 50%;z-index: 0;}#sk-container-id-40 div.sk-serial {display: flex;flex-direction: column;align-items: center;background-color: white;padding-right: 0.2em;padding-left: 0.2em;position: relative;}#sk-container-id-40 div.sk-item {position: relative;z-index: 1;}#sk-container-id-40 div.sk-parallel {display: flex;align-items: stretch;justify-content: center;background-color: white;position: relative;}#sk-container-id-40 div.sk-item::before, #sk-container-id-40 div.sk-parallel-item::before {content: \"\";position: absolute;border-left: 1px solid gray;box-sizing: border-box;top: 0;bottom: 0;left: 50%;z-index: -1;}#sk-container-id-40 div.sk-parallel-item {display: flex;flex-direction: column;z-index: 1;position: relative;background-color: white;}#sk-container-id-40 div.sk-parallel-item:first-child::after {align-self: flex-end;width: 50%;}#sk-container-id-40 div.sk-parallel-item:last-child::after {align-self: flex-start;width: 50%;}#sk-container-id-40 div.sk-parallel-item:only-child::after {width: 0;}#sk-container-id-40 div.sk-dashed-wrapped {border: 1px dashed gray;margin: 0 0.4em 0.5em 0.4em;box-sizing: border-box;padding-bottom: 0.4em;background-color: white;}#sk-container-id-40 div.sk-label label {font-family: monospace;font-weight: bold;display: inline-block;line-height: 1.2em;}#sk-container-id-40 div.sk-label-container {text-align: center;}#sk-container-id-40 div.sk-container {/* jupyter's `normalize.less` sets `[hidden] { display: none; }` but bootstrap.min.css set `[hidden] { display: none !important; }` so we also need the `!important` here to be able to override the default hidden behavior on the sphinx rendered scikit-learn.org. See: https://github.com/scikit-learn/scikit-learn/issues/21755 */display: inline-block !important;position: relative;}#sk-container-id-40 div.sk-text-repr-fallback {display: none;}</style><div id=\"sk-container-id-40\" class=\"sk-top-container\"><div class=\"sk-text-repr-fallback\"><pre>RandomForestRegressor(random_state=7)</pre><b>In a Jupyter environment, please rerun this cell to show the HTML representation or trust the notebook. <br />On GitHub, the HTML representation is unable to render, please try loading this page with nbviewer.org.</b></div><div class=\"sk-container\" hidden><div class=\"sk-item\"><div class=\"sk-estimator sk-toggleable\"><input class=\"sk-toggleable__control sk-hidden--visually\" id=\"sk-estimator-id-48\" type=\"checkbox\" checked><label for=\"sk-estimator-id-48\" class=\"sk-toggleable__label sk-toggleable__label-arrow\">RandomForestRegressor</label><div class=\"sk-toggleable__content\"><pre>RandomForestRegressor(random_state=7)</pre></div></div></div></div></div>"
      ],
      "text/plain": [
       "RandomForestRegressor(random_state=7)"
      ]
     },
     "execution_count": 225,
     "metadata": {},
     "output_type": "execute_result"
    }
   ],
   "source": [
    "# Training model Random Forest\n",
    "model_rf.fit(X_train_final, y_train)"
   ]
  },
  {
   "cell_type": "code",
   "execution_count": 226,
   "metadata": {},
   "outputs": [
    {
     "data": {
      "text/html": [
       "<style>#sk-container-id-41 {color: black;background-color: white;}#sk-container-id-41 pre{padding: 0;}#sk-container-id-41 div.sk-toggleable {background-color: white;}#sk-container-id-41 label.sk-toggleable__label {cursor: pointer;display: block;width: 100%;margin-bottom: 0;padding: 0.3em;box-sizing: border-box;text-align: center;}#sk-container-id-41 label.sk-toggleable__label-arrow:before {content: \"▸\";float: left;margin-right: 0.25em;color: #696969;}#sk-container-id-41 label.sk-toggleable__label-arrow:hover:before {color: black;}#sk-container-id-41 div.sk-estimator:hover label.sk-toggleable__label-arrow:before {color: black;}#sk-container-id-41 div.sk-toggleable__content {max-height: 0;max-width: 0;overflow: hidden;text-align: left;background-color: #f0f8ff;}#sk-container-id-41 div.sk-toggleable__content pre {margin: 0.2em;color: black;border-radius: 0.25em;background-color: #f0f8ff;}#sk-container-id-41 input.sk-toggleable__control:checked~div.sk-toggleable__content {max-height: 200px;max-width: 100%;overflow: auto;}#sk-container-id-41 input.sk-toggleable__control:checked~label.sk-toggleable__label-arrow:before {content: \"▾\";}#sk-container-id-41 div.sk-estimator input.sk-toggleable__control:checked~label.sk-toggleable__label {background-color: #d4ebff;}#sk-container-id-41 div.sk-label input.sk-toggleable__control:checked~label.sk-toggleable__label {background-color: #d4ebff;}#sk-container-id-41 input.sk-hidden--visually {border: 0;clip: rect(1px 1px 1px 1px);clip: rect(1px, 1px, 1px, 1px);height: 1px;margin: -1px;overflow: hidden;padding: 0;position: absolute;width: 1px;}#sk-container-id-41 div.sk-estimator {font-family: monospace;background-color: #f0f8ff;border: 1px dotted black;border-radius: 0.25em;box-sizing: border-box;margin-bottom: 0.5em;}#sk-container-id-41 div.sk-estimator:hover {background-color: #d4ebff;}#sk-container-id-41 div.sk-parallel-item::after {content: \"\";width: 100%;border-bottom: 1px solid gray;flex-grow: 1;}#sk-container-id-41 div.sk-label:hover label.sk-toggleable__label {background-color: #d4ebff;}#sk-container-id-41 div.sk-serial::before {content: \"\";position: absolute;border-left: 1px solid gray;box-sizing: border-box;top: 0;bottom: 0;left: 50%;z-index: 0;}#sk-container-id-41 div.sk-serial {display: flex;flex-direction: column;align-items: center;background-color: white;padding-right: 0.2em;padding-left: 0.2em;position: relative;}#sk-container-id-41 div.sk-item {position: relative;z-index: 1;}#sk-container-id-41 div.sk-parallel {display: flex;align-items: stretch;justify-content: center;background-color: white;position: relative;}#sk-container-id-41 div.sk-item::before, #sk-container-id-41 div.sk-parallel-item::before {content: \"\";position: absolute;border-left: 1px solid gray;box-sizing: border-box;top: 0;bottom: 0;left: 50%;z-index: -1;}#sk-container-id-41 div.sk-parallel-item {display: flex;flex-direction: column;z-index: 1;position: relative;background-color: white;}#sk-container-id-41 div.sk-parallel-item:first-child::after {align-self: flex-end;width: 50%;}#sk-container-id-41 div.sk-parallel-item:last-child::after {align-self: flex-start;width: 50%;}#sk-container-id-41 div.sk-parallel-item:only-child::after {width: 0;}#sk-container-id-41 div.sk-dashed-wrapped {border: 1px dashed gray;margin: 0 0.4em 0.5em 0.4em;box-sizing: border-box;padding-bottom: 0.4em;background-color: white;}#sk-container-id-41 div.sk-label label {font-family: monospace;font-weight: bold;display: inline-block;line-height: 1.2em;}#sk-container-id-41 div.sk-label-container {text-align: center;}#sk-container-id-41 div.sk-container {/* jupyter's `normalize.less` sets `[hidden] { display: none; }` but bootstrap.min.css set `[hidden] { display: none !important; }` so we also need the `!important` here to be able to override the default hidden behavior on the sphinx rendered scikit-learn.org. See: https://github.com/scikit-learn/scikit-learn/issues/21755 */display: inline-block !important;position: relative;}#sk-container-id-41 div.sk-text-repr-fallback {display: none;}</style><div id=\"sk-container-id-41\" class=\"sk-top-container\"><div class=\"sk-text-repr-fallback\"><pre>AdaBoostRegressor(random_state=7)</pre><b>In a Jupyter environment, please rerun this cell to show the HTML representation or trust the notebook. <br />On GitHub, the HTML representation is unable to render, please try loading this page with nbviewer.org.</b></div><div class=\"sk-container\" hidden><div class=\"sk-item\"><div class=\"sk-estimator sk-toggleable\"><input class=\"sk-toggleable__control sk-hidden--visually\" id=\"sk-estimator-id-49\" type=\"checkbox\" checked><label for=\"sk-estimator-id-49\" class=\"sk-toggleable__label sk-toggleable__label-arrow\">AdaBoostRegressor</label><div class=\"sk-toggleable__content\"><pre>AdaBoostRegressor(random_state=7)</pre></div></div></div></div></div>"
      ],
      "text/plain": [
       "AdaBoostRegressor(random_state=7)"
      ]
     },
     "execution_count": 226,
     "metadata": {},
     "output_type": "execute_result"
    }
   ],
   "source": [
    "# Training model Ada Boost\n",
    "model_ab.fit(X_train_final, y_train)"
   ]
  },
  {
   "attachments": {},
   "cell_type": "markdown",
   "metadata": {},
   "source": [
    "### Model Evaluation"
   ]
  },
  {
   "attachments": {},
   "cell_type": "markdown",
   "metadata": {},
   "source": [
    "Disini akan dilakukan evaluasi model setelah melakukan prediksi terhadap train set dan test set. Metriks yang untuk mengukur performance model adalah Root Mean Squared Error (RMSE) karena secara asumsi selisih sedikit nilai pada nutrisi tanaman memiliki perbedaan 1 (diasumsikan nutrisi tanaman yang bernilai 4 dan 5 memiliki perbedaan). Semakin kecil nilai RMSE, maka semakin baik performance model tersebut."
   ]
  },
  {
   "cell_type": "code",
   "execution_count": 227,
   "metadata": {},
   "outputs": [],
   "source": [
    "# Prediksi linear regression\n",
    "y_pred_train_lr = model_lr.predict(X_train_final)\n",
    "y_pred_train_lr = np.round(y_pred_train_lr, 2)\n",
    "\n",
    "y_pred_test_lr = model_lr.predict(X_test_final)\n",
    "y_pred_test_lr = np.round(y_pred_test_lr, 2)\n",
    "\n",
    "# Prediksi SVM\n",
    "y_pred_train_svm = model_svm.predict(X_train_final)\n",
    "y_pred_train_svm = np.round(y_pred_train_svm, 2)\n",
    "\n",
    "y_pred_test_svm = model_svm.predict(X_test_final)\n",
    "y_pred_test_svm = np.round(y_pred_test_svm, 2)\n",
    "\n",
    "# Prediksi KNN\n",
    "y_pred_train_knn = model_knn.predict(X_train_final)\n",
    "y_pred_train_knn = np.round(y_pred_train_knn, 2)\n",
    "\n",
    "y_pred_test_knn = model_knn.predict(X_test_final)\n",
    "y_pred_test_knn = np.round(y_pred_test_knn, 2)\n",
    "\n",
    "# Prediksi Decision Tree\n",
    "y_pred_train_dt = model_dt.predict(X_train_final)\n",
    "y_pred_train_dt = np.round(y_pred_train_dt, 2)\n",
    "\n",
    "y_pred_test_dt = model_dt.predict(X_test_final)\n",
    "y_pred_test_dt = np.round(y_pred_test_dt, 2)\n",
    "\n",
    "# Prediksi Random Forest\n",
    "y_pred_train_rf = model_rf.predict(X_train_final)\n",
    "y_pred_train_rf = np.round(y_pred_train_rf, 2)\n",
    "\n",
    "y_pred_test_rf = model_rf.predict(X_test_final)\n",
    "y_pred_test_rf = np.round(y_pred_test_rf, 2)\n",
    "\n",
    "# Prediksi Ada Boost\n",
    "y_pred_train_ab = model_ab.predict(X_train_final)\n",
    "y_pred_train_ab = np.round(y_pred_train_ab, 2)\n",
    "\n",
    "y_pred_test_ab = model_ab.predict(X_test_final)\n",
    "y_pred_test_ab = np.round(y_pred_test_ab, 2)"
   ]
  },
  {
   "cell_type": "code",
   "execution_count": 228,
   "metadata": {},
   "outputs": [
    {
     "data": {
      "image/png": "[encoded data removed]",
      "text/plain": [
       "<Figure size 900x400 with 1 Axes>"
      ]
     },
     "metadata": {},
     "output_type": "display_data"
    }
   ],
   "source": [
    "# Hasil prediksi setiap algoritma\n",
    "train_pred_list = [y_pred_train_lr, y_pred_train_svm, y_pred_train_knn, y_pred_train_dt, y_pred_train_rf, y_pred_train_ab]\n",
    "test_pred_list = [y_pred_test_lr, y_pred_test_svm, y_pred_test_knn, y_pred_test_dt, y_pred_test_rf, y_pred_test_ab]\n",
    "model_name_list = [\"Linear Regression\", \"SVM\", \"KNN\", \"Decision Tree\", \"Random Forest\", \"Ada Boost\"]\n",
    "mse_train = []\n",
    "mse_test = []\n",
    "\n",
    "for x, y in zip(train_pred_list, test_pred_list):\n",
    "    mse_train.append(np.round(math.sqrt(mean_squared_error(y_train, x)),3))\n",
    "    mse_test.append(np.round(math.sqrt(mean_squared_error(y_test, y)),3))\n",
    "\n",
    "data = {\n",
    "    \"train_performance\" : mse_train,\n",
    "    \"test_performance\" : mse_test\n",
    "}\n",
    "\n",
    "# Plot bar chart\n",
    "df_cmp = pd.DataFrame(data=data, index=model_name_list)\n",
    "chart = df_cmp.plot(kind=\"bar\", grid=True, figsize=(9,4), width=0.7)\n",
    "plt.xticks(rotation=\"horizontal\")\n",
    "plt.legend(loc='lower left')\n",
    "for i in chart.containers:\n",
    "    chart.bar_label(i,)"
   ]
  },
  {
   "attachments": {},
   "cell_type": "markdown",
   "metadata": {},
   "source": [
    "Dari hasil evaluasi performance, model yang menggunakan algoritma Ada Boost performance-nya lebih baik dibandingkan algoritma lain karena nilai RMSE pada test performance-nya lebih rendah dibandingkan algoritma lain. Didapatkan nilai RMSE test setnya adalah 0.186, artinya rata-rata kesalahan prediksi model tidak terlaluu berbeda jauh dengan nilai aktualnya. Kemudian selisihnya tidak begitu besar terhadap nilai train performance (0.186 dan 0.148). Maka algoritma Ada Boost akan dijadikan base model untuk memprediksi nutrisi tanaman. Selanjutnya akan dilakukan pencarian hyperparameter Ada Boost yang terbaik guna menaikan performance model (menurunkan nilai RMSE)."
   ]
  },
  {
   "attachments": {},
   "cell_type": "markdown",
   "metadata": {},
   "source": [
    "### Hyperparameter Tuning"
   ]
  },
  {
   "attachments": {},
   "cell_type": "markdown",
   "metadata": {},
   "source": [
    "Pencarian hyperparameter Ada Boost dilakukan dengan metode Grid Search. Grid Search merupakan cara mencari hyperparameter dengan mencoba seluruh kombinasi kemungkinan untuk mencari performance yang terbaik."
   ]
  },
  {
   "cell_type": "code",
   "execution_count": 229,
   "metadata": {},
   "outputs": [
    {
     "name": "stdout",
     "output_type": "stream",
     "text": [
      "Fitting 5 folds for each of 105 candidates, totalling 525 fits\n"
     ]
    },
    {
     "data": {
      "text/html": [
       "<style>#sk-container-id-42 {color: black;background-color: white;}#sk-container-id-42 pre{padding: 0;}#sk-container-id-42 div.sk-toggleable {background-color: white;}#sk-container-id-42 label.sk-toggleable__label {cursor: pointer;display: block;width: 100%;margin-bottom: 0;padding: 0.3em;box-sizing: border-box;text-align: center;}#sk-container-id-42 label.sk-toggleable__label-arrow:before {content: \"▸\";float: left;margin-right: 0.25em;color: #696969;}#sk-container-id-42 label.sk-toggleable__label-arrow:hover:before {color: black;}#sk-container-id-42 div.sk-estimator:hover label.sk-toggleable__label-arrow:before {color: black;}#sk-container-id-42 div.sk-toggleable__content {max-height: 0;max-width: 0;overflow: hidden;text-align: left;background-color: #f0f8ff;}#sk-container-id-42 div.sk-toggleable__content pre {margin: 0.2em;color: black;border-radius: 0.25em;background-color: #f0f8ff;}#sk-container-id-42 input.sk-toggleable__control:checked~div.sk-toggleable__content {max-height: 200px;max-width: 100%;overflow: auto;}#sk-container-id-42 input.sk-toggleable__control:checked~label.sk-toggleable__label-arrow:before {content: \"▾\";}#sk-container-id-42 div.sk-estimator input.sk-toggleable__control:checked~label.sk-toggleable__label {background-color: #d4ebff;}#sk-container-id-42 div.sk-label input.sk-toggleable__control:checked~label.sk-toggleable__label {background-color: #d4ebff;}#sk-container-id-42 input.sk-hidden--visually {border: 0;clip: rect(1px 1px 1px 1px);clip: rect(1px, 1px, 1px, 1px);height: 1px;margin: -1px;overflow: hidden;padding: 0;position: absolute;width: 1px;}#sk-container-id-42 div.sk-estimator {font-family: monospace;background-color: #f0f8ff;border: 1px dotted black;border-radius: 0.25em;box-sizing: border-box;margin-bottom: 0.5em;}#sk-container-id-42 div.sk-estimator:hover {background-color: #d4ebff;}#sk-container-id-42 div.sk-parallel-item::after {content: \"\";width: 100%;border-bottom: 1px solid gray;flex-grow: 1;}#sk-container-id-42 div.sk-label:hover label.sk-toggleable__label {background-color: #d4ebff;}#sk-container-id-42 div.sk-serial::before {content: \"\";position: absolute;border-left: 1px solid gray;box-sizing: border-box;top: 0;bottom: 0;left: 50%;z-index: 0;}#sk-container-id-42 div.sk-serial {display: flex;flex-direction: column;align-items: center;background-color: white;padding-right: 0.2em;padding-left: 0.2em;position: relative;}#sk-container-id-42 div.sk-item {position: relative;z-index: 1;}#sk-container-id-42 div.sk-parallel {display: flex;align-items: stretch;justify-content: center;background-color: white;position: relative;}#sk-container-id-42 div.sk-item::before, #sk-container-id-42 div.sk-parallel-item::before {content: \"\";position: absolute;border-left: 1px solid gray;box-sizing: border-box;top: 0;bottom: 0;left: 50%;z-index: -1;}#sk-container-id-42 div.sk-parallel-item {display: flex;flex-direction: column;z-index: 1;position: relative;background-color: white;}#sk-container-id-42 div.sk-parallel-item:first-child::after {align-self: flex-end;width: 50%;}#sk-container-id-42 div.sk-parallel-item:last-child::after {align-self: flex-start;width: 50%;}#sk-container-id-42 div.sk-parallel-item:only-child::after {width: 0;}#sk-container-id-42 div.sk-dashed-wrapped {border: 1px dashed gray;margin: 0 0.4em 0.5em 0.4em;box-sizing: border-box;padding-bottom: 0.4em;background-color: white;}#sk-container-id-42 div.sk-label label {font-family: monospace;font-weight: bold;display: inline-block;line-height: 1.2em;}#sk-container-id-42 div.sk-label-container {text-align: center;}#sk-container-id-42 div.sk-container {/* jupyter's `normalize.less` sets `[hidden] { display: none; }` but bootstrap.min.css set `[hidden] { display: none !important; }` so we also need the `!important` here to be able to override the default hidden behavior on the sphinx rendered scikit-learn.org. See: https://github.com/scikit-learn/scikit-learn/issues/21755 */display: inline-block !important;position: relative;}#sk-container-id-42 div.sk-text-repr-fallback {display: none;}</style><div id=\"sk-container-id-42\" class=\"sk-top-container\"><div class=\"sk-text-repr-fallback\"><pre>GridSearchCV(cv=5, estimator=AdaBoostRegressor(random_state=7),\n",
       "             param_grid={&#x27;learning_rate&#x27;: [1e-05, 0.0001, 0.01, 0.1, 1.0, 1.1,\n",
       "                                           1.2],\n",
       "                         &#x27;loss&#x27;: [&#x27;linear&#x27;, &#x27;square&#x27;, &#x27;exponential&#x27;],\n",
       "                         &#x27;n_estimators&#x27;: [10, 20, 50, 80, 100]},\n",
       "             scoring=&#x27;neg_root_mean_squared_error&#x27;, verbose=1)</pre><b>In a Jupyter environment, please rerun this cell to show the HTML representation or trust the notebook. <br />On GitHub, the HTML representation is unable to render, please try loading this page with nbviewer.org.</b></div><div class=\"sk-container\" hidden><div class=\"sk-item sk-dashed-wrapped\"><div class=\"sk-label-container\"><div class=\"sk-label sk-toggleable\"><input class=\"sk-toggleable__control sk-hidden--visually\" id=\"sk-estimator-id-50\" type=\"checkbox\" ><label for=\"sk-estimator-id-50\" class=\"sk-toggleable__label sk-toggleable__label-arrow\">GridSearchCV</label><div class=\"sk-toggleable__content\"><pre>GridSearchCV(cv=5, estimator=AdaBoostRegressor(random_state=7),\n",
       "             param_grid={&#x27;learning_rate&#x27;: [1e-05, 0.0001, 0.01, 0.1, 1.0, 1.1,\n",
       "                                           1.2],\n",
       "                         &#x27;loss&#x27;: [&#x27;linear&#x27;, &#x27;square&#x27;, &#x27;exponential&#x27;],\n",
       "                         &#x27;n_estimators&#x27;: [10, 20, 50, 80, 100]},\n",
       "             scoring=&#x27;neg_root_mean_squared_error&#x27;, verbose=1)</pre></div></div></div><div class=\"sk-parallel\"><div class=\"sk-parallel-item\"><div class=\"sk-item\"><div class=\"sk-label-container\"><div class=\"sk-label sk-toggleable\"><input class=\"sk-toggleable__control sk-hidden--visually\" id=\"sk-estimator-id-51\" type=\"checkbox\" ><label for=\"sk-estimator-id-51\" class=\"sk-toggleable__label sk-toggleable__label-arrow\">estimator: AdaBoostRegressor</label><div class=\"sk-toggleable__content\"><pre>AdaBoostRegressor(random_state=7)</pre></div></div></div><div class=\"sk-serial\"><div class=\"sk-item\"><div class=\"sk-estimator sk-toggleable\"><input class=\"sk-toggleable__control sk-hidden--visually\" id=\"sk-estimator-id-52\" type=\"checkbox\" ><label for=\"sk-estimator-id-52\" class=\"sk-toggleable__label sk-toggleable__label-arrow\">AdaBoostRegressor</label><div class=\"sk-toggleable__content\"><pre>AdaBoostRegressor(random_state=7)</pre></div></div></div></div></div></div></div></div></div></div>"
      ],
      "text/plain": [
       "GridSearchCV(cv=5, estimator=AdaBoostRegressor(random_state=7),\n",
       "             param_grid={'learning_rate': [1e-05, 0.0001, 0.01, 0.1, 1.0, 1.1,\n",
       "                                           1.2],\n",
       "                         'loss': ['linear', 'square', 'exponential'],\n",
       "                         'n_estimators': [10, 20, 50, 80, 100]},\n",
       "             scoring='neg_root_mean_squared_error', verbose=1)"
      ]
     },
     "execution_count": 229,
     "metadata": {},
     "output_type": "execute_result"
    }
   ],
   "source": [
    "params = {\n",
    "    \"n_estimators\": [10, 20, 50, 80, 100],\n",
    "    \"learning_rate\": [0.00001, 0.0001, 0.01, 0.1, 1.0, 1.1, 1.2],\n",
    "    \"loss\": [\"linear\", \"square\", \"exponential\"], \n",
    "}\n",
    "\n",
    "grid_search = GridSearchCV(estimator=AdaBoostRegressor(random_state=7), param_grid=params, cv=5, verbose=1, scoring=\"neg_root_mean_squared_error\")\n",
    "grid_search.fit(X_train_final, y_train)"
   ]
  },
  {
   "cell_type": "code",
   "execution_count": 230,
   "metadata": {},
   "outputs": [
    {
     "data": {
      "text/plain": [
       "{'learning_rate': 0.0001, 'loss': 'exponential', 'n_estimators': 20}"
      ]
     },
     "execution_count": 230,
     "metadata": {},
     "output_type": "execute_result"
    }
   ],
   "source": [
    "# Tampilkan parameter terbaik\n",
    "grid_search.best_params_"
   ]
  },
  {
   "attachments": {},
   "cell_type": "markdown",
   "metadata": {},
   "source": [
    "Dari hasil Grid Search didapatkan parameter yang terbaik untuk Ada Boost adalah ('learning_rate': 0.0001, 'loss': 'exponential', 'n_estimators': 20)."
   ]
  },
  {
   "cell_type": "code",
   "execution_count": 231,
   "metadata": {},
   "outputs": [],
   "source": [
    "# Ambil model dengan parameter terbaik\n",
    "model_ab_tune = grid_search.best_estimator_"
   ]
  },
  {
   "cell_type": "code",
   "execution_count": 232,
   "metadata": {},
   "outputs": [],
   "source": [
    "# Prediksi dengan model yang sudah dituning\n",
    "y_pred_test_ab_tune = model_ab_tune.predict(X_test_final)\n",
    "y_pred_test_ab_tune = np.round(y_pred_test_ab_tune, 2)"
   ]
  },
  {
   "attachments": {},
   "cell_type": "markdown",
   "metadata": {},
   "source": [
    "### Model Tuning Evaluation"
   ]
  },
  {
   "cell_type": "code",
   "execution_count": 233,
   "metadata": {},
   "outputs": [
    {
     "name": "stdout",
     "output_type": "stream",
     "text": [
      "RMSE test: 0.186\n",
      "RMSE test (tuning): 0.179\n"
     ]
    }
   ],
   "source": [
    "# Perbandingan RMSE\n",
    "print(\"RMSE test: {:.3f}\".format(math.sqrt(mean_squared_error(y_test, y_pred_test_ab))))\n",
    "print(\"RMSE test (tuning): {:.3f}\".format(math.sqrt(mean_squared_error(y_test, y_pred_test_ab_tune))))"
   ]
  },
  {
   "cell_type": "code",
   "execution_count": 234,
   "metadata": {},
   "outputs": [
    {
     "data": {
      "text/html": [
       "<div>\n",
       "<style scoped>\n",
       "    .dataframe tbody tr th:only-of-type {\n",
       "        vertical-align: middle;\n",
       "    }\n",
       "\n",
       "    .dataframe tbody tr th {\n",
       "        vertical-align: top;\n",
       "    }\n",
       "\n",
       "    .dataframe thead th {\n",
       "        text-align: right;\n",
       "    }\n",
       "</style>\n",
       "<table border=\"1\" class=\"dataframe\">\n",
       "  <thead>\n",
       "    <tr style=\"text-align: right;\">\n",
       "      <th></th>\n",
       "      <th>target</th>\n",
       "      <th>target_pred</th>\n",
       "    </tr>\n",
       "  </thead>\n",
       "  <tbody>\n",
       "    <tr>\n",
       "      <th>104</th>\n",
       "      <td>4.77</td>\n",
       "      <td>4.87</td>\n",
       "    </tr>\n",
       "    <tr>\n",
       "      <th>88</th>\n",
       "      <td>4.67</td>\n",
       "      <td>4.68</td>\n",
       "    </tr>\n",
       "    <tr>\n",
       "      <th>40</th>\n",
       "      <td>4.62</td>\n",
       "      <td>4.68</td>\n",
       "    </tr>\n",
       "    <tr>\n",
       "      <th>82</th>\n",
       "      <td>4.64</td>\n",
       "      <td>4.67</td>\n",
       "    </tr>\n",
       "    <tr>\n",
       "      <th>99</th>\n",
       "      <td>4.66</td>\n",
       "      <td>4.69</td>\n",
       "    </tr>\n",
       "    <tr>\n",
       "      <th>79</th>\n",
       "      <td>4.77</td>\n",
       "      <td>4.69</td>\n",
       "    </tr>\n",
       "    <tr>\n",
       "      <th>77</th>\n",
       "      <td>4.76</td>\n",
       "      <td>4.69</td>\n",
       "    </tr>\n",
       "    <tr>\n",
       "      <th>125</th>\n",
       "      <td>5.03</td>\n",
       "      <td>4.70</td>\n",
       "    </tr>\n",
       "    <tr>\n",
       "      <th>66</th>\n",
       "      <td>4.48</td>\n",
       "      <td>4.68</td>\n",
       "    </tr>\n",
       "    <tr>\n",
       "      <th>115</th>\n",
       "      <td>4.98</td>\n",
       "      <td>4.89</td>\n",
       "    </tr>\n",
       "    <tr>\n",
       "      <th>24</th>\n",
       "      <td>4.44</td>\n",
       "      <td>4.69</td>\n",
       "    </tr>\n",
       "    <tr>\n",
       "      <th>156</th>\n",
       "      <td>4.47</td>\n",
       "      <td>4.59</td>\n",
       "    </tr>\n",
       "    <tr>\n",
       "      <th>13</th>\n",
       "      <td>4.66</td>\n",
       "      <td>4.69</td>\n",
       "    </tr>\n",
       "    <tr>\n",
       "      <th>148</th>\n",
       "      <td>4.73</td>\n",
       "      <td>4.52</td>\n",
       "    </tr>\n",
       "    <tr>\n",
       "      <th>128</th>\n",
       "      <td>5.08</td>\n",
       "      <td>4.87</td>\n",
       "    </tr>\n",
       "    <tr>\n",
       "      <th>78</th>\n",
       "      <td>4.76</td>\n",
       "      <td>4.67</td>\n",
       "    </tr>\n",
       "    <tr>\n",
       "      <th>45</th>\n",
       "      <td>4.48</td>\n",
       "      <td>4.68</td>\n",
       "    </tr>\n",
       "    <tr>\n",
       "      <th>11</th>\n",
       "      <td>4.79</td>\n",
       "      <td>4.89</td>\n",
       "    </tr>\n",
       "    <tr>\n",
       "      <th>159</th>\n",
       "      <td>4.43</td>\n",
       "      <td>4.52</td>\n",
       "    </tr>\n",
       "    <tr>\n",
       "      <th>28</th>\n",
       "      <td>4.91</td>\n",
       "      <td>4.69</td>\n",
       "    </tr>\n",
       "    <tr>\n",
       "      <th>70</th>\n",
       "      <td>4.71</td>\n",
       "      <td>4.68</td>\n",
       "    </tr>\n",
       "    <tr>\n",
       "      <th>154</th>\n",
       "      <td>4.79</td>\n",
       "      <td>4.52</td>\n",
       "    </tr>\n",
       "    <tr>\n",
       "      <th>51</th>\n",
       "      <td>4.60</td>\n",
       "      <td>4.67</td>\n",
       "    </tr>\n",
       "    <tr>\n",
       "      <th>32</th>\n",
       "      <td>4.57</td>\n",
       "      <td>4.89</td>\n",
       "    </tr>\n",
       "    <tr>\n",
       "      <th>111</th>\n",
       "      <td>5.00</td>\n",
       "      <td>4.91</td>\n",
       "    </tr>\n",
       "    <tr>\n",
       "      <th>130</th>\n",
       "      <td>4.89</td>\n",
       "      <td>4.52</td>\n",
       "    </tr>\n",
       "    <tr>\n",
       "      <th>84</th>\n",
       "      <td>4.60</td>\n",
       "      <td>4.68</td>\n",
       "    </tr>\n",
       "    <tr>\n",
       "      <th>80</th>\n",
       "      <td>4.45</td>\n",
       "      <td>4.68</td>\n",
       "    </tr>\n",
       "    <tr>\n",
       "      <th>37</th>\n",
       "      <td>4.65</td>\n",
       "      <td>4.89</td>\n",
       "    </tr>\n",
       "    <tr>\n",
       "      <th>65</th>\n",
       "      <td>4.44</td>\n",
       "      <td>4.69</td>\n",
       "    </tr>\n",
       "    <tr>\n",
       "      <th>98</th>\n",
       "      <td>4.89</td>\n",
       "      <td>4.69</td>\n",
       "    </tr>\n",
       "    <tr>\n",
       "      <th>60</th>\n",
       "      <td>4.53</td>\n",
       "      <td>4.66</td>\n",
       "    </tr>\n",
       "  </tbody>\n",
       "</table>\n",
       "</div>"
      ],
      "text/plain": [
       "     target  target_pred\n",
       "104    4.77         4.87\n",
       "88     4.67         4.68\n",
       "40     4.62         4.68\n",
       "82     4.64         4.67\n",
       "99     4.66         4.69\n",
       "79     4.77         4.69\n",
       "77     4.76         4.69\n",
       "125    5.03         4.70\n",
       "66     4.48         4.68\n",
       "115    4.98         4.89\n",
       "24     4.44         4.69\n",
       "156    4.47         4.59\n",
       "13     4.66         4.69\n",
       "148    4.73         4.52\n",
       "128    5.08         4.87\n",
       "78     4.76         4.67\n",
       "45     4.48         4.68\n",
       "11     4.79         4.89\n",
       "159    4.43         4.52\n",
       "28     4.91         4.69\n",
       "70     4.71         4.68\n",
       "154    4.79         4.52\n",
       "51     4.60         4.67\n",
       "32     4.57         4.89\n",
       "111    5.00         4.91\n",
       "130    4.89         4.52\n",
       "84     4.60         4.68\n",
       "80     4.45         4.68\n",
       "37     4.65         4.89\n",
       "65     4.44         4.69\n",
       "98     4.89         4.69\n",
       "60     4.53         4.66"
      ]
     },
     "execution_count": 234,
     "metadata": {},
     "output_type": "execute_result"
    }
   ],
   "source": [
    "# Perbandingan target prediksi dengan target aktual (test set)\n",
    "df_pred_ab_tune = pd.DataFrame(y_pred_test_ab_tune, columns=[\"target_pred\"], index=y_test.index)\n",
    "pred_test_cmp = pd.concat([y_test, df_pred_ab_tune], axis=1)\n",
    "pred_test_cmp"
   ]
  },
  {
   "attachments": {},
   "cell_type": "markdown",
   "metadata": {},
   "source": [
    "Dari hasil tuning model, didapatkan performansi model lebih baik dari sebelumnya (nilai RMSE menurun dari 0.186 menjadi 0.179). Sehingga rata-rata error dalam memprediksi nutrisi tanaman lebih minimal. Selanjutnya model ini akan disimpan dan dicoba untuk memprediksi data inference (data diluar train set maupun test set). Untuk percobaan data inference terdapat pada notebook <b>inference_test.ipynb</b>."
   ]
  },
  {
   "attachments": {},
   "cell_type": "markdown",
   "metadata": {},
   "source": [
    "### Model Saving"
   ]
  },
  {
   "attachments": {},
   "cell_type": "markdown",
   "metadata": {},
   "source": [
    "Pada tahap ini dilakukan penyimpanan model, scaler, dan list fitur yang dibutuhkan untuk modeling. Penyimpanan model dan scaler menggunakan library pickle, sedangkan untuk menyimpan list fitur menggunakan json."
   ]
  },
  {
   "cell_type": "code",
   "execution_count": 235,
   "metadata": {},
   "outputs": [],
   "source": [
    "# Save model, scaler, dan fitur\n",
    "with open(\"aria_model.pkl\", \"wb\") as file_1:\n",
    "    pickle.dump(model_ab_tune, file_1)\n",
    "\n",
    "with open(\"aria_s_scaler.pkl\", \"wb\") as file_2:\n",
    "    pickle.dump(standard_scaler, file_2)\n",
    "\n",
    "with open(\"aria_mm_scaler.pkl\", \"wb\") as file_3:\n",
    "    pickle.dump(minmax_scaler, file_3)\n",
    "\n",
    "with open(\"num_col_nd.txt\", \"w\") as file_4:\n",
    "    json.dump(num_col_nd, file_4)\n",
    "\n",
    "with open(\"num_col_sd.txt\", \"w\") as file_5:\n",
    "    json.dump(num_col_sd, file_5)"
   ]
  },
  {
   "attachments": {},
   "cell_type": "markdown",
   "metadata": {},
   "source": [
    "# vii. Kesimpulan"
   ]
  },
  {
   "attachments": {},
   "cell_type": "markdown",
   "metadata": {},
   "source": [
    "Dari hasil korelasi, beberapa hal yang mempengaruhi nilai dari nutrisi tanaman adalah nilai pada variabel 2, 4, 5, 6, 7, dan 8. Secara asumsi itu merupakan nilai dari nutrisi Macronutrients dan Micronutrients pada tanaman. Berdasarkan korelasi, untuk nilai variabel 2 sampai 7 (diasumsikan Micronutrients) hubungannya tidak searah dengan nilai nutrisi tanaman (jika Micronutrients naik maka nilai nutrisi tanaman menurun). Dan untuk nilai variabel 8 (diasumsikan Macronutrients), hubungannya searah dengan nilai nutrisi tanaman (jika Macronutrients naik maka nilai nutrisi tanaman naik).\n",
    "\n",
    "Dari hasil pembuatan model didapatkan nilai performance RMSE adalah 0.179. Dapat dikatakan rata-rata kesalahan tersebut masih terbilang kecil dan masih terbilang cukup baik dalam memprediksi nutrisi tanaman. Tetapi model cenderung hanya memprediksi nutrisi tanaman dari angka 4 hingga 5, karena dari dataset yang digunakan rentang nutrisinya hanya berkisar 4 sampai 5. Sehingga jika ada suatu data yang ingin diprediksi yang mungkin saja aktual nilai nutrisinya bukan 4 atau 5, maka model akan cenderung error dalam memprediksi dan tidak akan memprediksi ke nilai tersebut. Maka untuk improvisasi kedepannya dari model yang dibuat perlu dilakukan penambahan data dengan pola nilai yang baru untuk melatih model. Sehingga dapat meningkatkan lagi performance dan akurasi model untuk memprediksi nutrisi tanaman.\n",
    "\n",
    "Selain dalam penambahan data, jika dataset yang digunakan dalam modeling telah ditambahkan/diupdate maka proses dalam feature engineering hingga modeling perlu dilakukan penyesuaian lagi. Contohnya dalam handling outlier, scaling, dan pemilihan algoritma model juga akan disesuaikan berdasarkan dataset yang digunakan. Karena mungkin saja proses yang telah dilakukan pada project ini tidak cocok jika diimplementasikan pada dataset yang baru sehingga menyebabkan akurasi prediksi tidak baik.\n"
   ]
  }
 ],
 "metadata": {
  "kernelspec": {
   "display_name": "MyEnvironment",
   "language": "python",
   "name": "python3"
  },
  "language_info": {
   "codemirror_mode": {
    "name": "ipython",
    "version": 3
   },
   "file_extension": ".py",
   "mimetype": "text/x-python",
   "name": "python",
   "nbconvert_exporter": "python",
   "pygments_lexer": "ipython3",
   "version": "3.11.0"
  },
  "orig_nbformat": 4,
  "vscode": {
   "interpreter": {
    "hash": "f1e0c053c48393934bfb4e857e570e86bb0b39b48be5cfd7eb8c3f52e80641bb"
   }
  }
 },
 "nbformat": 4,
 "nbformat_minor": 2
}
