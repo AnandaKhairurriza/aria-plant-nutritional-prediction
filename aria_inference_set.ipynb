{
 "cells": [
  {
   "attachments": {},
   "cell_type": "markdown",
   "metadata": {},
   "source": [
    "### Import Libaries"
   ]
  },
  {
   "cell_type": "code",
   "execution_count": 1,
   "metadata": {},
   "outputs": [],
   "source": [
    "import numpy as np\n",
    "import pandas as pd\n",
    "\n",
    "import pickle\n",
    "import json"
   ]
  },
  {
   "attachments": {},
   "cell_type": "markdown",
   "metadata": {},
   "source": [
    "### Load model, scaler, dan fitur"
   ]
  },
  {
   "cell_type": "code",
   "execution_count": 2,
   "metadata": {},
   "outputs": [],
   "source": [
    "# Load model dan scaler\n",
    "with open(\"aria_model.pkl\", \"rb\") as file_1:\n",
    "    model = pickle.load(file_1)\n",
    "\n",
    "with open(\"aria_s_scaler.pkl\", \"rb\") as file_2:\n",
    "    standard_scaler = pickle.load(file_2)\n",
    "\n",
    "with open(\"aria_mm_scaler.pkl\", \"rb\") as file_3:\n",
    "    minmax_scaler = pickle.load(file_3)\n",
    "\n",
    "with open(\"num_col_nd.txt\", \"r\") as file_4:\n",
    "    num_col_nd = json.load(file_4)\n",
    "\n",
    "with open(\"num_col_sd.txt\", \"r\") as file_5:\n",
    "    num_col_sd = json.load(file_5)"
   ]
  },
  {
   "attachments": {},
   "cell_type": "markdown",
   "metadata": {},
   "source": [
    "### Load dataset inference"
   ]
  },
  {
   "cell_type": "code",
   "execution_count": 3,
   "metadata": {},
   "outputs": [
    {
     "data": {
      "text/html": [
       "<div>\n",
       "<style scoped>\n",
       "    .dataframe tbody tr th:only-of-type {\n",
       "        vertical-align: middle;\n",
       "    }\n",
       "\n",
       "    .dataframe tbody tr th {\n",
       "        vertical-align: top;\n",
       "    }\n",
       "\n",
       "    .dataframe thead th {\n",
       "        text-align: right;\n",
       "    }\n",
       "</style>\n",
       "<table border=\"1\" class=\"dataframe\">\n",
       "  <thead>\n",
       "    <tr style=\"text-align: right;\">\n",
       "      <th></th>\n",
       "      <th>v1</th>\n",
       "      <th>v2</th>\n",
       "      <th>v3</th>\n",
       "      <th>v4</th>\n",
       "      <th>v5</th>\n",
       "      <th>v6</th>\n",
       "      <th>v7</th>\n",
       "      <th>v8</th>\n",
       "      <th>sample_type</th>\n",
       "    </tr>\n",
       "  </thead>\n",
       "  <tbody>\n",
       "    <tr>\n",
       "      <th>0</th>\n",
       "      <td>555.795044</td>\n",
       "      <td>204.562483</td>\n",
       "      <td>632.219461</td>\n",
       "      <td>541.989336</td>\n",
       "      <td>594.341383</td>\n",
       "      <td>352.076953</td>\n",
       "      <td>824.797880</td>\n",
       "      <td>4841.922378</td>\n",
       "      <td>lab 1</td>\n",
       "    </tr>\n",
       "    <tr>\n",
       "      <th>1</th>\n",
       "      <td>468.935422</td>\n",
       "      <td>350.696390</td>\n",
       "      <td>717.073222</td>\n",
       "      <td>558.737233</td>\n",
       "      <td>389.571071</td>\n",
       "      <td>229.284788</td>\n",
       "      <td>657.993738</td>\n",
       "      <td>4425.822347</td>\n",
       "      <td>lab 1</td>\n",
       "    </tr>\n",
       "    <tr>\n",
       "      <th>2</th>\n",
       "      <td>401.576015</td>\n",
       "      <td>260.994494</td>\n",
       "      <td>398.234231</td>\n",
       "      <td>519.860805</td>\n",
       "      <td>633.301786</td>\n",
       "      <td>195.062152</td>\n",
       "      <td>846.720129</td>\n",
       "      <td>4717.856130</td>\n",
       "      <td>lab 2</td>\n",
       "    </tr>\n",
       "    <tr>\n",
       "      <th>3</th>\n",
       "      <td>534.293085</td>\n",
       "      <td>337.936235</td>\n",
       "      <td>352.532579</td>\n",
       "      <td>343.135279</td>\n",
       "      <td>570.652612</td>\n",
       "      <td>360.542935</td>\n",
       "      <td>732.063313</td>\n",
       "      <td>4574.904009</td>\n",
       "      <td>lab 2</td>\n",
       "    </tr>\n",
       "    <tr>\n",
       "      <th>4</th>\n",
       "      <td>470.726763</td>\n",
       "      <td>336.538334</td>\n",
       "      <td>461.182546</td>\n",
       "      <td>559.235599</td>\n",
       "      <td>441.260496</td>\n",
       "      <td>240.346937</td>\n",
       "      <td>645.708946</td>\n",
       "      <td>4403.755687</td>\n",
       "      <td>lab 1</td>\n",
       "    </tr>\n",
       "    <tr>\n",
       "      <th>5</th>\n",
       "      <td>405.295767</td>\n",
       "      <td>312.963472</td>\n",
       "      <td>691.138143</td>\n",
       "      <td>380.453846</td>\n",
       "      <td>692.117397</td>\n",
       "      <td>382.075317</td>\n",
       "      <td>823.161168</td>\n",
       "      <td>4573.825094</td>\n",
       "      <td>lab 2</td>\n",
       "    </tr>\n",
       "  </tbody>\n",
       "</table>\n",
       "</div>"
      ],
      "text/plain": [
       "           v1          v2          v3          v4          v5          v6  \\\n",
       "0  555.795044  204.562483  632.219461  541.989336  594.341383  352.076953   \n",
       "1  468.935422  350.696390  717.073222  558.737233  389.571071  229.284788   \n",
       "2  401.576015  260.994494  398.234231  519.860805  633.301786  195.062152   \n",
       "3  534.293085  337.936235  352.532579  343.135279  570.652612  360.542935   \n",
       "4  470.726763  336.538334  461.182546  559.235599  441.260496  240.346937   \n",
       "5  405.295767  312.963472  691.138143  380.453846  692.117397  382.075317   \n",
       "\n",
       "           v7           v8 sample_type  \n",
       "0  824.797880  4841.922378       lab 1  \n",
       "1  657.993738  4425.822347       lab 1  \n",
       "2  846.720129  4717.856130       lab 2  \n",
       "3  732.063313  4574.904009       lab 2  \n",
       "4  645.708946  4403.755687       lab 1  \n",
       "5  823.161168  4573.825094       lab 2  "
      ]
     },
     "execution_count": 3,
     "metadata": {},
     "output_type": "execute_result"
    }
   ],
   "source": [
    "# Load data inference\n",
    "data_inf = pd.read_excel(\"dataset/aria_inference_set.xlsx\")\n",
    "data_inf"
   ]
  },
  {
   "attachments": {},
   "cell_type": "markdown",
   "metadata": {},
   "source": [
    "### Scaling feature"
   ]
  },
  {
   "cell_type": "code",
   "execution_count": 4,
   "metadata": {},
   "outputs": [
    {
     "data": {
      "text/plain": [
       "array([[ 2.10698293,  0.15821534,  0.82034899],\n",
       "       [-1.0458075 ,  1.05566862,  0.51455236],\n",
       "       [ 2.5213387 ,  0.50478168,  0.7291713 ],\n",
       "       [ 0.35419279,  0.97730458,  0.62411416],\n",
       "       [-1.27800424,  0.96871964,  0.49833532],\n",
       "       [ 2.0760472 ,  0.82393916,  0.62332126]])"
      ]
     },
     "execution_count": 4,
     "metadata": {},
     "output_type": "execute_result"
    }
   ],
   "source": [
    "# Scaling berdasarkan fitur yang di load\n",
    "data_inf_nd = data_inf[num_col_nd]\n",
    "data_inf_sd = data_inf[num_col_sd]\n",
    "\n",
    "data_inf_nd_scaled = standard_scaler.transform(data_inf_nd)\n",
    "data_inf_sd_scaled = minmax_scaler.transform(data_inf_sd)\n",
    "\n",
    "data_inf_final = np.concatenate([data_inf_nd_scaled, data_inf_sd_scaled], axis=1)\n",
    "data_inf_final"
   ]
  },
  {
   "attachments": {},
   "cell_type": "markdown",
   "metadata": {},
   "source": [
    "### Predict target"
   ]
  },
  {
   "cell_type": "code",
   "execution_count": 7,
   "metadata": {},
   "outputs": [
    {
     "data": {
      "text/plain": [
       "array([4.69, 4.89, 4.68, 4.66, 4.89, 4.68])"
      ]
     },
     "execution_count": 7,
     "metadata": {},
     "output_type": "execute_result"
    }
   ],
   "source": [
    "# Prediksi dengan model\n",
    "data_inf_pred = model.predict(data_inf_final)\n",
    "data_inf_pred = np.round(data_inf_pred, 2)\n",
    "data_inf_pred"
   ]
  },
  {
   "cell_type": "code",
   "execution_count": 8,
   "metadata": {},
   "outputs": [
    {
     "data": {
      "text/html": [
       "<div>\n",
       "<style scoped>\n",
       "    .dataframe tbody tr th:only-of-type {\n",
       "        vertical-align: middle;\n",
       "    }\n",
       "\n",
       "    .dataframe tbody tr th {\n",
       "        vertical-align: top;\n",
       "    }\n",
       "\n",
       "    .dataframe thead th {\n",
       "        text-align: right;\n",
       "    }\n",
       "</style>\n",
       "<table border=\"1\" class=\"dataframe\">\n",
       "  <thead>\n",
       "    <tr style=\"text-align: right;\">\n",
       "      <th></th>\n",
       "      <th>v1</th>\n",
       "      <th>v2</th>\n",
       "      <th>v3</th>\n",
       "      <th>v4</th>\n",
       "      <th>v5</th>\n",
       "      <th>v6</th>\n",
       "      <th>v7</th>\n",
       "      <th>v8</th>\n",
       "      <th>sample_type</th>\n",
       "      <th>nutrition_pred</th>\n",
       "    </tr>\n",
       "  </thead>\n",
       "  <tbody>\n",
       "    <tr>\n",
       "      <th>0</th>\n",
       "      <td>555.795044</td>\n",
       "      <td>204.562483</td>\n",
       "      <td>632.219461</td>\n",
       "      <td>541.989336</td>\n",
       "      <td>594.341383</td>\n",
       "      <td>352.076953</td>\n",
       "      <td>824.797880</td>\n",
       "      <td>4841.922378</td>\n",
       "      <td>lab 1</td>\n",
       "      <td>4.69</td>\n",
       "    </tr>\n",
       "    <tr>\n",
       "      <th>1</th>\n",
       "      <td>468.935422</td>\n",
       "      <td>350.696390</td>\n",
       "      <td>717.073222</td>\n",
       "      <td>558.737233</td>\n",
       "      <td>389.571071</td>\n",
       "      <td>229.284788</td>\n",
       "      <td>657.993738</td>\n",
       "      <td>4425.822347</td>\n",
       "      <td>lab 1</td>\n",
       "      <td>4.89</td>\n",
       "    </tr>\n",
       "    <tr>\n",
       "      <th>2</th>\n",
       "      <td>401.576015</td>\n",
       "      <td>260.994494</td>\n",
       "      <td>398.234231</td>\n",
       "      <td>519.860805</td>\n",
       "      <td>633.301786</td>\n",
       "      <td>195.062152</td>\n",
       "      <td>846.720129</td>\n",
       "      <td>4717.856130</td>\n",
       "      <td>lab 2</td>\n",
       "      <td>4.68</td>\n",
       "    </tr>\n",
       "    <tr>\n",
       "      <th>3</th>\n",
       "      <td>534.293085</td>\n",
       "      <td>337.936235</td>\n",
       "      <td>352.532579</td>\n",
       "      <td>343.135279</td>\n",
       "      <td>570.652612</td>\n",
       "      <td>360.542935</td>\n",
       "      <td>732.063313</td>\n",
       "      <td>4574.904009</td>\n",
       "      <td>lab 2</td>\n",
       "      <td>4.66</td>\n",
       "    </tr>\n",
       "    <tr>\n",
       "      <th>4</th>\n",
       "      <td>470.726763</td>\n",
       "      <td>336.538334</td>\n",
       "      <td>461.182546</td>\n",
       "      <td>559.235599</td>\n",
       "      <td>441.260496</td>\n",
       "      <td>240.346937</td>\n",
       "      <td>645.708946</td>\n",
       "      <td>4403.755687</td>\n",
       "      <td>lab 1</td>\n",
       "      <td>4.89</td>\n",
       "    </tr>\n",
       "    <tr>\n",
       "      <th>5</th>\n",
       "      <td>405.295767</td>\n",
       "      <td>312.963472</td>\n",
       "      <td>691.138143</td>\n",
       "      <td>380.453846</td>\n",
       "      <td>692.117397</td>\n",
       "      <td>382.075317</td>\n",
       "      <td>823.161168</td>\n",
       "      <td>4573.825094</td>\n",
       "      <td>lab 2</td>\n",
       "      <td>4.68</td>\n",
       "    </tr>\n",
       "  </tbody>\n",
       "</table>\n",
       "</div>"
      ],
      "text/plain": [
       "           v1          v2          v3          v4          v5          v6  \\\n",
       "0  555.795044  204.562483  632.219461  541.989336  594.341383  352.076953   \n",
       "1  468.935422  350.696390  717.073222  558.737233  389.571071  229.284788   \n",
       "2  401.576015  260.994494  398.234231  519.860805  633.301786  195.062152   \n",
       "3  534.293085  337.936235  352.532579  343.135279  570.652612  360.542935   \n",
       "4  470.726763  336.538334  461.182546  559.235599  441.260496  240.346937   \n",
       "5  405.295767  312.963472  691.138143  380.453846  692.117397  382.075317   \n",
       "\n",
       "           v7           v8 sample_type  nutrition_pred  \n",
       "0  824.797880  4841.922378       lab 1            4.69  \n",
       "1  657.993738  4425.822347       lab 1            4.89  \n",
       "2  846.720129  4717.856130       lab 2            4.68  \n",
       "3  732.063313  4574.904009       lab 2            4.66  \n",
       "4  645.708946  4403.755687       lab 1            4.89  \n",
       "5  823.161168  4573.825094       lab 2            4.68  "
      ]
     },
     "execution_count": 8,
     "metadata": {},
     "output_type": "execute_result"
    }
   ],
   "source": [
    "# Concat hasil prediksi dengan data inference\n",
    "data_inf_pred_df = pd.DataFrame(data_inf_pred, columns=[\"nutrition_pred\"])\n",
    "data_inf_cmp = pd.concat([data_inf, data_inf_pred_df], axis=1)\n",
    "data_inf_cmp"
   ]
  },
  {
   "attachments": {},
   "cell_type": "markdown",
   "metadata": {},
   "source": [
    "Dari 6 data inference diprediksi oleh model rata-rata nutrisi pada tanaman adalah berkisar 4.7"
   ]
  }
 ],
 "metadata": {
  "kernelspec": {
   "display_name": "MyEnvironment",
   "language": "python",
   "name": "python3"
  },
  "language_info": {
   "codemirror_mode": {
    "name": "ipython",
    "version": 3
   },
   "file_extension": ".py",
   "mimetype": "text/x-python",
   "name": "python",
   "nbconvert_exporter": "python",
   "pygments_lexer": "ipython3",
   "version": "3.11.0"
  },
  "orig_nbformat": 4,
  "vscode": {
   "interpreter": {
    "hash": "f1e0c053c48393934bfb4e857e570e86bb0b39b48be5cfd7eb8c3f52e80641bb"
   }
  }
 },
 "nbformat": 4,
 "nbformat_minor": 2
}
